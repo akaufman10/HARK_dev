{
 "cells": [
  {
   "cell_type": "markdown",
   "metadata": {},
   "source": [
    "#### This HARK demo shows one great use of HARK: importing and solving a model for different parameter values, to see how parameters affect the solution.\n",
    "\n",
    "Specifically, it examines the Marginal Propensity to Consume (MPC) derived from an increase in a credit limit, and compares it to the MPC derived from temporary income. \n",
    "\n",
    "The code is structured to facilitate understanding the program. So, rather than import modules at the beginning of the script, they are imported in the body to make their purpose more obvious. \n",
    "\n"
   ]
  },
  {
   "cell_type": "markdown",
   "metadata": {},
   "source": [
    "**Step** 1: Tell Python where to find the main HARK scripts (such as <font color='green'>HARKcore.py</font>) and the ConsumptionSaving scripts (such as <font color='green'>ConsIndShockModel.py</font>)"
   ]
  },
  {
   "cell_type": "code",
   "execution_count": 1,
   "metadata": {
    "collapsed": true
   },
   "outputs": [],
   "source": [
    "import sys\n",
    "import os"
   ]
  },
  {
   "cell_type": "code",
   "execution_count": 2,
   "metadata": {
    "collapsed": true
   },
   "outputs": [],
   "source": [
    "sys.path.insert(1,'/home/marc/Git/HARK/ConsumptionSaving') #replace path in single quotes with\n",
    "# your path to ConsumptionSaving folder\n",
    "sys.path.insert(1, os.path.abspath('/home/marc/Git/HARK')) #replace path in single quotes with \n",
    "# your path to main HARK folder"
   ]
  },
  {
   "cell_type": "markdown",
   "metadata": {},
   "source": [
    "__Step 2__: Bring in an agent making a consumption/ savings decision every period, subject to transitory and permanent income shocks,"
   ]
  },
  {
   "cell_type": "code",
   "execution_count": 3,
   "metadata": {
    "collapsed": true
   },
   "outputs": [],
   "source": [
    "from ConsIndShockModel import IndShockConsumerType\n",
    "import ConsumerParameters as Params #this imports the default parameter values"
   ]
  },
  {
   "cell_type": "markdown",
   "metadata": {},
   "source": [
    "... and create an instance of the consumer type using the default parameter values. We create the instance of the consumer type by calling <span style=\"color:blue\">IndShockConsumerType()</span> and pass the default parameter values by passing `**Params.init_idiosyncratic_shocks` as an argument:"
   ]
  },
  {
   "cell_type": "code",
   "execution_count": 4,
   "metadata": {},
   "outputs": [
    {
     "name": "stdout",
     "output_type": "stream",
     "text": [
      "divide by zero encountered in log\n"
     ]
    }
   ],
   "source": [
    "BaselineExample = IndShockConsumerType(**Params.init_idiosyncratic_shocks)"
   ]
  },
  {
   "cell_type": "markdown",
   "metadata": {},
   "source": [
    "We have now created an instance of a very standard consumer type.<br> **Note** that many assumptions are made in creating a standard consumer type, and as with any structural model, these assumptions matter. For example, this consumer pays the same interest rate on debt as she earns on savings.\n",
    "\n",
    "Alternatively, if we wanted to solve the problem of a consumer who pays a higher interest rate on debt than the rate earned on savings, we could easily do so by importing a *different model* from HARK and create an instance of that <font color='blue'>ConsumerType</font> instead.\n",
    "\n",
    "To see this modification in action, simply uncomment (remove the hashtag) from the two lines of code in the block below, and see how results change."
   ]
  },
  {
   "cell_type": "code",
   "execution_count": 5,
   "metadata": {
    "collapsed": true
   },
   "outputs": [],
   "source": [
    "#from ConsIndShockModel import KinkedRconsumerType\n",
    "#BaselineExample = KinkedRconsumerType(**Params.init_kinked_R)"
   ]
  },
  {
   "cell_type": "markdown",
   "metadata": {},
   "source": [
    "__Step 3__: Modify parameter values as needed.\n",
    "\n",
    "To see all the parameters used in the model (along with their default values), see <span style=\"color:green\">ConsumerParameters.py</span>\n",
    "\n",
    "Parameter values are stored as attributes of the <font color='blue'>ConsumerType</font> instance. For example, the risk-free interest rate `Rfree` is stored as <span style=\"color:blue\">BaselineExample.Rfree</span>.\n",
    "Because we created <span style=\"color:blue\">BaselineExample</span> using the default parameter values, at the moment <span style=\"color:blue\">BaselineExample.Rfree</span> is set to the default value of `Rfree` (which, at the time this demo was written, was 1.03). \n",
    "\n",
    "Therefore, to modify the risk-free interest rate used in <span style=\"color:blue\">BaselineExample</span> (say, for example, to 1.02) we simply assign a new value to the `Rfree` attribute:"
   ]
  },
  {
   "cell_type": "code",
   "execution_count": 6,
   "metadata": {
    "collapsed": true
   },
   "outputs": [],
   "source": [
    "BaselineExample.Rfree = 1.02 #modify the risk-free interest rate"
   ]
  },
  {
   "cell_type": "markdown",
   "metadata": {},
   "source": [
    "We can similarly modify other attributes of the <font color='blue'>ConsumerType</font> instance (titled <span style=\"color:blue\">BaselineExample</span>):"
   ]
  },
  {
   "cell_type": "code",
   "execution_count": 7,
   "metadata": {
    "collapsed": true
   },
   "outputs": [],
   "source": [
    "BaselineExample.CRRA = 2 #modify the coefficient of relative risk aversion\n",
    "BaselineExample.BoroCnstArt = -.3 #modify the artifical borrowing constraint\n",
    "BaselineExample.DiscFac = .5 #this number is chosen so that the taget debt:permanent_income ratio is approximately .1\n",
    "        #ie BaselineExample.solution[0].cFunc(.9) is roughly = 1"
   ]
  },
  {
   "cell_type": "markdown",
   "metadata": {},
   "source": [
    "There is one more (slightly more complicated) parameter we must modify, the \"cycles\" attribute. This parameter indicates *how often* the sequence of periods must be solved, \n",
    "> Imagine a consumer with an infinite horizon of periods that (ex-ante) are all identical. Conversely, imagine a consumer with a finite lifecycle; or a consumer who faces an infinite horizon of periods that are cycle but are not identical (ie a ski instructor facing an inifinite series of winter periods with significant income, but interspersed with summer periods with little income). These differences are captured via the \"cycles\" attribute. \n",
    "\n",
    "-  the default value 1 corresponds to a consumer with a finite lifecycle that is only experienced once\n",
    "-  the value 2 corresponds to a consumer who lived that life twice in a row, then died\n",
    "-  the value 0 corresponds to an infinite horizon consumer\n",
    "\n",
    "One additional complication: the \"cycles\" attribute is not instantiated in `Params.init_idiosyncratic_shocks`. Instead, it is a keyword argument to the `__init__()`method of <span style=\"color:blue\">IndShockConsumerType</span>."
   ]
  },
  {
   "cell_type": "code",
   "execution_count": 8,
   "metadata": {
    "collapsed": true
   },
   "outputs": [],
   "source": [
    "BaselineExample.cycles = 0"
   ]
  },
  {
   "cell_type": "markdown",
   "metadata": {},
   "source": [
    "__Step 4__: Create another consumer to compare to <span style=\"color:blue\">BaselineExample</span>..."
   ]
  },
  {
   "cell_type": "code",
   "execution_count": 9,
   "metadata": {
    "collapsed": true
   },
   "outputs": [],
   "source": [
    "from copy import deepcopy\n",
    "XtraCreditExample = deepcopy(BaselineExample) #use deepcopy to make a copy of BaselineExample with same parameter values"
   ]
  },
  {
   "cell_type": "markdown",
   "metadata": {
    "collapsed": true
   },
   "source": [
    "... and modify the parameters as needed. With <span style=\"color:blue\">XtraCreditExample</span>, we want to see what happens if the consumer has access to more credit. To do so, we need to relax their borrowing constraint by increasing <span style=\"color:blue\">XtraCreditExample</span>'s credit in relation to <span style=\"color:blue\">BaselineExample</span>. First, we declare how much we want to increase credit..."
   ]
  },
  {
   "cell_type": "code",
   "execution_count": 10,
   "metadata": {
    "collapsed": true
   },
   "outputs": [],
   "source": [
    "credit_change = .001"
   ]
  },
  {
   "cell_type": "markdown",
   "metadata": {},
   "source": [
    "... then we decrease <span style=\"color:blue\">XtraCreditExample</span>'s artifical borrowing constraint by the declared amount:"
   ]
  },
  {
   "cell_type": "code",
   "execution_count": 11,
   "metadata": {
    "collapsed": true
   },
   "outputs": [],
   "source": [
    "XtraCreditExample.BoroCnstArt = BaselineExample.BoroCnstArt - credit_change"
   ]
  },
  {
   "cell_type": "markdown",
   "metadata": {},
   "source": [
    "Now, we solve the consumers' problems. In HARK, this is accomplished by calling the `solve()` method of the ConsumerType."
   ]
  },
  {
   "cell_type": "code",
   "execution_count": 12,
   "metadata": {
    "collapsed": true
   },
   "outputs": [],
   "source": [
    "BaselineExample.solve() #solve the baseline example"
   ]
  },
  {
   "cell_type": "code",
   "execution_count": 13,
   "metadata": {
    "collapsed": true
   },
   "outputs": [],
   "source": [
    "XtraCreditExample.solve() #solve the comparison example of the consumer with more credit"
   ]
  },
  {
   "cell_type": "markdown",
   "metadata": {},
   "source": [
    "#### We can now compare the solutions to these two slightly different problems.\n",
    "We are going to compare the consumption functions for the two consumers. Policy functions (including consumption functions) in HARK are stored as attributes of the \"solution\" of the `ConsumerType`. The solution is a list whose index is the time periods (thus, each list item may be a separate solution corresponding to the separate time period). \n",
    "\n",
    "Since the consumers in this demo follow the  infinite-horizon-with-homogeneous-periods model (remember that we set `BaselineExample.cycles = 0`), we can regard this as a single time period, and hence a single solution. Thus, `BaselineExample.solution[0]` is the sole solution for <span style=\"color:blue\">BaselineExample</span>. If, instead, <font color='blue'>BaselineExample</font> had 10 time periods, we could access the 5th period using `BaselineExample.solution[4]` (remember that Python counts from 0). Therefore, the consumption function <font color='blue'>cFunc</font> from the solution to <font color='blue'>BaselineExample</font> is `BaselineExample.solution[0].cFunc`.\n",
    "\n",
    "**Steps 5 - 8:**\n",
    "The following steps involve plotting the consumption functions and the MPCs of the two consumers. First, we will define functions that will be used to plot the MPCs; we then import the necessary modules to plot our solutions; we then plot the consumption functions and display them; and finally, plot the MPCs and display them."
   ]
  },
  {
   "cell_type": "markdown",
   "metadata": {},
   "source": [
    "**Step 5**: Define functions to plot MPCs:"
   ]
  },
  {
   "cell_type": "code",
   "execution_count": 14,
   "metadata": {
    "collapsed": true
   },
   "outputs": [],
   "source": [
    "def FirstDiffMPC_Income(x):\n",
    "    '''Approximate the MPC out of income by giving the agent a very small increase in income, and plot the proportion of \n",
    "    change that is reflected in increased consumption'''\n",
    "    income_change = credit_change #declare how much we want to increase (or decrease) income\n",
    "        #Here we change income by the same amount we changed credit so that the two MPC approximations are compatible\n",
    "    return (BaselineExample.solution[0].cFunc(x + income_change) - BaselineExample.solution[0].cFunc(x)) / income_change\n",
    "        #We then calculate the approximate MPC out of income"
   ]
  },
  {
   "cell_type": "code",
   "execution_count": 15,
   "metadata": {
    "collapsed": true
   },
   "outputs": [],
   "source": [
    "def FirstDiffMPC_Credit(x):\n",
    "    '''Approximate the MPC out of credit by plotting how much more of the increased credit the agent \n",
    "    with the higher credit spends'''\n",
    "    return (XtraCreditExample.solution[0].cFunc(x) - BaselineExample.solution[0].cFunc(x)) / credit_change"
   ]
  },
  {
   "cell_type": "markdown",
   "metadata": {},
   "source": [
    "**Step 6**: Import the necessary modules:"
   ]
  },
  {
   "cell_type": "code",
   "execution_count": 16,
   "metadata": {
    "collapsed": true
   },
   "outputs": [],
   "source": [
    "from HARKutilities import plotFuncs\n",
    "import pylab as plt\n",
    "x_max = 10 #Here we declare the upper limit for the graph"
   ]
  },
  {
   "cell_type": "markdown",
   "metadata": {},
   "source": [
    "**Step 7**: Plot the consumption functions to easily compare.\n",
    "\n",
    "**Note** that `plotFuncs` takes four arguments:\n",
    "1.  a list of the arguments to plot\n",
    "2.  the lower bound for the plots\n",
    "3.  the upper bound for the plots\n",
    "4.  keywords to pass to the legend for the plot"
   ]
  },
  {
   "cell_type": "code",
   "execution_count": 17,
   "metadata": {},
   "outputs": [
    {
     "name": "stdout",
     "output_type": "stream",
     "text": [
      "Consumption functions:\n"
     ]
    },
    {
     "data": {
      "image/png": "[encoded data removed]",
      "text/plain": [
       "<matplotlib.figure.Figure at 0x7fb61027d9d0>"
      ]
     },
     "metadata": {},
     "output_type": "display_data"
    }
   ],
   "source": [
    "print('Consumption functions:')\n",
    "plotFuncs([BaselineExample.solution[0].cFunc, XtraCreditExample.solution[0].cFunc],  #list args to plot\n",
    "          BaselineExample.solution[0].mNrmMin,                                       #lower bound for plot\n",
    "          x_max,                                                                     #upper bound for plot\n",
    "          legend_kwds = {'loc':'upper left', 'labels': [\"Baseline\", \"XtraCredit\"]})  #keywords for plot legend"
   ]
  },
  {
   "cell_type": "markdown",
   "metadata": {},
   "source": [
    "**Step 8**: Plot the MPCs to easily compare. See **note** about `plotFuncs` above."
   ]
  },
  {
   "cell_type": "code",
   "execution_count": 18,
   "metadata": {},
   "outputs": [
    {
     "name": "stdout",
     "output_type": "stream",
     "text": [
      "MPC out of Credit v MPC out of Income:\n"
     ]
    },
    {
     "data": {
      "image/png": "[encoded data removed]",
      "text/plain": [
       "<matplotlib.figure.Figure at 0x7fb5e0fbdd50>"
      ]
     },
     "metadata": {},
     "output_type": "display_data"
    }
   ],
   "source": [
    "print('MPC out of Credit v MPC out of Income:')\n",
    "plt.ylim([0.,1.2])\n",
    "plotFuncs([FirstDiffMPC_Credit, FirstDiffMPC_Income],                          #list of arguments for plot\n",
    "          BaselineExample.solution[0].mNrmMin,                                 #lower bound\n",
    "          x_max,                                                               #upper bound\n",
    "          legend_kwds = {'labels':[\"MPC out of credit\", \"MPC out of Income\"]}) #keywords for plot legend"
   ]
  }
 ],
 "metadata": {
  "kernelspec": {
   "display_name": "Python 2",
   "language": "python",
   "name": "python2"
  },
  "language_info": {
   "codemirror_mode": {
    "name": "ipython",
    "version": 2
   },
   "file_extension": ".py",
   "mimetype": "text/x-python",
   "name": "python",
   "nbconvert_exporter": "python",
   "pygments_lexer": "ipython2",
   "version": "2.7.13"
  }
 },
 "nbformat": 4,
 "nbformat_minor": 2
}
