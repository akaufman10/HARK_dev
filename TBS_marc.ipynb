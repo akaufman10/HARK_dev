{
 "cells": [
  {
   "cell_type": "code",
   "execution_count": 1,
   "metadata": {
    "collapsed": true
   },
   "outputs": [],
   "source": [
    "import os"
   ]
  },
  {
   "cell_type": "code",
   "execution_count": 2,
   "metadata": {},
   "outputs": [
    {
     "data": {
      "text/plain": [
       "'/home/marc/Git/HARK_dev'"
      ]
     },
     "execution_count": 2,
     "metadata": {},
     "output_type": "execute_result"
    }
   ],
   "source": [
    "os.getcwd()"
   ]
  },
  {
   "cell_type": "code",
   "execution_count": 26,
   "metadata": {
    "collapsed": true
   },
   "outputs": [],
   "source": [
    "#change the line below to your local HARK file location\n",
    "os.chdir('/home/marc/Git/HARK')"
   ]
  },
  {
   "cell_type": "code",
   "execution_count": 27,
   "metadata": {},
   "outputs": [
    {
     "data": {
      "text/plain": [
       "'/home/marc/Git/HARK'"
      ]
     },
     "execution_count": 27,
     "metadata": {},
     "output_type": "execute_result"
    }
   ],
   "source": [
    "os.getcwd()"
   ]
  },
  {
   "cell_type": "code",
   "execution_count": 28,
   "metadata": {},
   "outputs": [
    {
     "name": "stdout",
     "output_type": "stream",
     "text": [
      "\u001b[0m\u001b[01;34mcAndCwithStickyE\u001b[0m/   HARKestimation.py      HARKutilities.pyc\r\n",
      "\u001b[01;34mConsumptionSaving\u001b[0m/  HARKinterpolation.py   __index__.py\r\n",
      "\u001b[01;34mcstwMPC\u001b[0m/            HARKinterpolation.pyc  LICENSE\r\n",
      "\u001b[01;34mDocumentation\u001b[0m/      HARKparallel.py        README.md\r\n",
      "\u001b[01;34mFashionVictim\u001b[0m/      HARKsimulation.py      \u001b[01;34mSolvingMicroDSOPs\u001b[0m/\r\n",
      "HARKcore.py         HARKsimulation.pyc     \u001b[01;34mTesting\u001b[0m/\r\n",
      "HARKcore.pyc        HARKutilities.py\r\n"
     ]
    }
   ],
   "source": [
    "ls"
   ]
  },
  {
   "cell_type": "markdown",
   "metadata": {},
   "source": [
    "# Implementation of a Tractable Model Of Buffer Stock Saving \n",
    "\n",
    "\n",
    "This notebook implements the Carroll et. al.'s Tractable Model of Buffer Stock Saving (2009) using HARK.  The notebook is intended as a guide to using HARK, and provides only a basic outline of the model.  For a full theoretical explanation, see the [Lecture Notes for the Tractable Model](http://www.econ2.jhu.edu/people/ccarroll/public/LectureNotes/Consumption/TractableBufferStock.pdf).  \n",
    "\n",
    "In this notebook, we solve the consumer's consumption vs. saving optimization problem\n",
    "using HARK's simulation method. We compare the solution obtained via simulation to the solution obtained via traditional analytical methods, demonstrating the efficiency and applicability of HARK's simulation method.\n",
    "\n",
    "To begin, we import several routines from HARK.  They will be explained as they are used throughout the notebook, but by convention, imports are written at the begining of all code."
   ]
  },
  {
   "cell_type": "code",
   "execution_count": 29,
   "metadata": {},
   "outputs": [],
   "source": [
    "import numpy as np                   # numeric Python\n",
    "from time import clock               # timing utility\n",
    "    \n",
    "import scipy \n",
    "from scipy import * \n",
    "from HARKutilities import plotFuncs  # basic plotting tools\n",
    "from HARKcore import AgentType #the agent used in the simulation\n",
    "os.chdir(os.getcwd()+\"/ConsumptionSaving\") \n",
    "#from TractableBufferStockModel import addToStableArmPoints, TractableConsumerSolution\n",
    "    #is this unnecessary since below we import everything from TBSModel?\n",
    "from TractableBufferStockModel import *\n",
    "from ConsMarkovModel import MarkovConsumerType #this module will be used to solve the TBS model\n",
    "    #the 'long way'\n",
    "    "
   ]
  },
  {
   "cell_type": "markdown",
   "metadata": {},
   "source": [
    "The consumer's problem is optimizing utility derived from consumption from the current period $t$ until end of life $T$,\n",
    "<br/>\n",
    "$max \\: E_{t} \\Big[ \\sum_{n=0}^{T-t} \\beta^n u(\\textbf{c}_{t+n})\\Big]   $\n",
    "<br/><br/>\n",
    "The solution is characterized by the below elements, making up the consumer's Dynamic Budget Constraint,\n",
    "$\\textbf{a}_{t} = \\textbf{m}_{t} - \\textbf{c}_{t}$<br/>\n",
    "$\\textbf{b}_{t+1} = R\\textbf{a}_{t}$<br/>\n",
    "$\\textbf{m}_{t+1} = \\textbf{b}_{t+1}+\\ell_{t+1}W_{t+1}\\xi_{t+1}$\n",
    "<br/>\n",
    "where $\\textbf{a}$ is end-of-period assets (after the period's consumption decision); $\\textbf{m}$ is market resources (net worth plus current income); $\\textbf{c}$ is consumption; $\\textbf{b}$ is bank balance before receipt of labor income;$\\textbf{R}$ is constant interest factor; $\\ell$ measures the consumer's labor productivity ('endowment'); $W$ is the aggregate wage rate; and $\\xi$ is a dummy variable indicating consumer's employment state ('e' employed or 'u' unemployed.\n",
    "<br/><br/>\n",
    "The goal is to find the optimal change in consumption, $\\Delta c$, per period. For the employed consumer, this is characterized by the equation,<br/>\n",
    "$\\frac{c_{t+1}^e}{c_{t}^e}=P_{\\Gamma}\\Bigg\\{1 + \\Upsilon\\bigg[\\bigg(\\frac{c_{t+1}^e}{c_{t+1}^u}\\bigg)^\\rho-1\\bigg]\\Bigg\\}^{1/\\rho}$\n",
    "<br/>\n",
    "<br/>\n",
    "where $\\Upsilon$ is the probability a consumer remains employed,<br/>\n",
    "$P_{\\Gamma}$ is the 'growth patience factor',<br/>\n",
    "&nbsp; &nbsp;&nbsp; &nbsp;&nbsp; &nbsp;$P_{\\Gamma}=\\bigg(\\frac{(R\\beta)^{1/\\rho}}{\\Gamma}\\bigg)$ &nbsp; &nbsp; with $\\Gamma=G/\\Upsilon$, &nbsp; $G$ is the labor income growth factor, &nbsp; $\\beta$ is the discount factor\n",
    "\n"
   ]
  },
  {
   "cell_type": "markdown",
   "metadata": {},
   "source": [
    "Below, we define a subclass of `AgentType`, the `TractableConsumerType`. We call the `AgentType` superclass from Harkcore, then redefine `preSolve` and `postSolve` to meet the needs of our specific model. "
   ]
  },
  {
   "cell_type": "markdown",
   "metadata": {},
   "source": []
  },
  {
   "cell_type": "code",
   "execution_count": 30,
   "metadata": {},
   "outputs": [],
   "source": [
    "class TractableConsumerType(AgentType):\n",
    "\n",
    "    def __init__(self,cycles=0,time_flow=False,**kwds):\n",
    "        '''\n",
    "        Instantiate a new TractableConsumerType with given data.\n",
    "        \n",
    "        Parameters\n",
    "        ----------\n",
    "        cycles : int\n",
    "            Number of times the sequence of periods should be solved.\n",
    "        time_flow : boolean\n",
    "            Whether time is currently \"flowing\" forward for this instance.\n",
    "        \n",
    "        Returns:\n",
    "        -----------\n",
    "        New instance of TractableConsumerType.\n",
    "        '''            \n",
    "        # Initialize a basic AgentType\n",
    "        AgentType.__init__(self,cycles=cycles,time_flow=time_flow,pseudo_terminal=True,**kwds)\n",
    "\n",
    "        # Add consumer-type specific objects, copying to create independent versions\n",
    "        self.time_vary = []\n",
    "        self.time_inv = ['DiscFac','Rfree','CRRA','PermGroFacCmp',\n",
    "                         'UnempPrb','PFMPC','Rnrm','Beth','mLowerBnd','mUpperBnd']\n",
    "        self.shock_vars = ['eStateNow']\n",
    "        self.poststate_vars = ['aLvlNow','eStateNow'] # For simulation\n",
    "        self.solveOnePeriod = addToStableArmPoints # set correct solver\n",
    "        \n",
    "    def preSolve(self):\n",
    "        '''\n",
    "        Calculates all of the solution objects that can be obtained before con-\n",
    "        ducting the backshooting routine, including the target levels, the per-\n",
    "        fect foresight solution, (marginal) consumption at m=0, and the small\n",
    "        perturbations around the steady state.\n",
    "        \n",
    "        Parameters\n",
    "        ----------\n",
    "        none\n",
    "        \n",
    "        Returns\n",
    "        -------\n",
    "        none\n",
    "        '''\n",
    "        # Define utility functions\n",
    "        uPP = lambda x : utilityPP(x,gam=self.CRRA)\n",
    "        uPPP = lambda x : utilityPPP(x,gam=self.CRRA)\n",
    "        uPPPP = lambda x : utilityPPPP(x,gam=self.CRRA)\n",
    "        \n",
    "        # Define some useful constants from model primitives\n",
    "        self.PermGroFacCmp = self.PermGroFac/(1.0-self.UnempPrb) #\"uncertainty compensated\" \n",
    "            #wage growth factor\n",
    "        self.Rnrm = self.Rfree/self.PermGroFacCmp # net interest factor (Rfree normalized by \n",
    "            #wage growth)\n",
    "        self.PFMPC= 1.0-(self.Rfree**(-1.0))*(self.Rfree*self.DiscFac)**(1.0/self.CRRA) # MPC \n",
    "            #for a perfect forsight consumer\n",
    "        self.Beth = self.Rnrm*self.DiscFac*self.PermGroFacCmp**(1.0-self.CRRA)\n",
    "        \n",
    "        # Verify that this consumer is impatient\n",
    "        PatFacGrowth = (self.Rfree*self.DiscFac)**(1.0/self.CRRA)/self.PermGroFacCmp \n",
    "        PatFacReturn = (self.Rfree*self.DiscFac)**(1.0/self.CRRA)/self.Rfree\n",
    "        if PatFacReturn >= 1.0:\n",
    "            raise Exception(\"Employed consumer not return impatient, cannot solve!\")\n",
    "        if PatFacGrowth >= 1.0:\n",
    "            raise Exception(\"Employed consumer not growth impatient, cannot solve!\")\n",
    "            \n",
    "        # Find target money and consumption\n",
    "        Pi = (1+(PatFacGrowth**(-self.CRRA)-1.0)/self.UnempPrb)**(1/self.CRRA)\n",
    "        self.h = (1.0/(1.0-self.PermGroFac/self.Rfree)) #normalized human wealth\n",
    "        zeta = self.Rnrm*self.PFMPC*Pi\n",
    "        self.mTarg = 1.0+(self.Rfree/(self.PermGroFacCmp+zeta*self.PermGroFacCmp-self.Rfree))\n",
    "        self.cTarg = (1.0-self.Rnrm**(-1.0))*self.mTarg+self.Rnrm**(-1.0)\n",
    "        mTargU = (self.mTarg - self.cTarg)*self.Rnrm\n",
    "        cTargU = mTargU*self.PFMPC\n",
    "        self.SSperturbance = self.mTarg*0.1\n",
    "        \n",
    "        # Find the MPC, MMPC, and MMMPC at the target\n",
    "        mpcTargFixedPointFunc = lambda k : k*uPP(self.cTarg) - \\\n",
    "            self.Beth*((1.0-self.UnempPrb)*(1.0-k)*k*self.Rnrm*uPP(self.cTarg\n",
    "            )+self.PFMPC*self.UnempPrb*(1.0-k)*self.Rnrm*uPP(cTargU))\n",
    "        self.MPCtarg = newton(mpcTargFixedPointFunc,0)\n",
    "        mmpcTargFixedPointFunc = lambda kk : kk*uPP(self.cTarg) + self.MPCtarg**2.0*uPPP(self.cTarg\n",
    "            ) - self.Beth*(-(1.0 - self.UnempPrb)*self.MPCtarg*kk*self.Rnrm*uPP(self.cTarg) + (\n",
    "            1.0-self.UnempPrb)*(1.0 - self.MPCtarg)**2.0*kk*self.Rnrm**2.0*uPP(self.cTarg\n",
    "            ) - self.PFMPC*self.UnempPrb*kk*self.Rnrm*uPP(cTargU) + (1.0-self.UnempPrb)*(1.0-self.MPCtarg\n",
    "            )**2.0*self.MPCtarg**2.0*self.Rnrm**2.0*uPPP(self.cTarg) + self.PFMPC**2.0*self.UnempPrb*(\n",
    "            1.0-self.MPCtarg)**2.0*self.Rnrm**2.0*uPPP(cTargU))\n",
    "            \n",
    "        self.MMPCtarg = newton(mmpcTargFixedPointFunc,0)\n",
    "        mmmpcTargFixedPointFunc = lambda kkk : kkk * uPP(self.cTarg) + 3 * self.MPCtarg * \\\n",
    "            self.MMPCtarg * uPPP(self.cTarg) + self.MPCtarg**3 * uPPPP(self.cTarg) - self.Beth * (\n",
    "            -(1 - self.UnempPrb) * self.MPCtarg * kkk * self.Rnrm * uPP(self.cTarg) - 3 * (\n",
    "            1 - self.UnempPrb) * (1 - self.MPCtarg) * self.MMPCtarg**2 * self.Rnrm**2 * uPP(self.cTarg\n",
    "            ) + (1 - self.UnempPrb) * (1 - self.MPCtarg)**3 * kkk * self.Rnrm**3 * uPP(self.cTarg\n",
    "            ) - self.PFMPC * self.UnempPrb * kkk * self.Rnrm * uPP(cTargU) - 3 * (1 - self.UnempPrb\n",
    "            ) * (1 - self.MPCtarg) * self.MPCtarg**2 * self.MMPCtarg * self.Rnrm**2 * uPPP(self.cTarg\n",
    "            ) + 3 * (1 - self.UnempPrb) * (1 - self.MPCtarg)**3 * self.MPCtarg * self.MMPCtarg * \\\n",
    "            self.Rnrm**3 * uPPP(self.cTarg) - 3 * self.PFMPC**2 * self.UnempPrb * (1 - self.MPCtarg\n",
    "            ) * self.MMPCtarg * self.Rnrm**2 * uPPP(cTargU) + (1 - self.UnempPrb) * (1 - self.MPCtarg\n",
    "            )**3 * self.MPCtarg**3 * self.Rnrm**3 * uPPPP(self.cTarg) + self.PFMPC**3 * self.UnempPrb * (\n",
    "            1 - self.MPCtarg)**3 * self.Rnrm**3 * uPPPP(cTargU))\n",
    "        self.MMMPCtarg = newton(mmmpcTargFixedPointFunc,0)\n",
    "        \n",
    "        # Find the MPC at m=0\n",
    "        f_temp = lambda k : self.Beth*self.Rnrm*self.UnempPrb*(self.PFMPC*self.Rnrm*((1.0-k)/k))**(\n",
    "            -self.CRRA-1.0)*self.PFMPC\n",
    "        mpcAtZeroFixedPointFunc = lambda k : k - f_temp(k)/(1 + f_temp(k))\n",
    "        #self.MPCmax = newton(mpcAtZeroFixedPointFunc,0.5)\n",
    "        self.MPCmax = brentq(mpcAtZeroFixedPointFunc,self.PFMPC,0.99,xtol=0.00000001,rtol=0.00000001)\n",
    "        \n",
    "        # Make the initial list of Euler points: target and perturbation to either side\n",
    "        mNrm_list = [self.mTarg-self.SSperturbance, self.mTarg, self.mTarg+self.SSperturbance]\n",
    "        c_perturb_lo = self.cTarg - self.SSperturbance*self.MPCtarg + 0.5*self.SSperturbance**2.0*self.MMPCtarg - \\\n",
    "            (1.0/6.0)*self.SSperturbance**3.0*self.MMMPCtarg\n",
    "        c_perturb_hi = self.cTarg + self.SSperturbance*self.MPCtarg + 0.5*self.SSperturbance**2.0*self.MMPCtarg + \\\n",
    "            (1.0/6.0)*self.SSperturbance**3.0*self.MMMPCtarg\n",
    "        cNrm_list = [c_perturb_lo, self.cTarg, c_perturb_hi]\n",
    "        MPC_perturb_lo = self.MPCtarg - self.SSperturbance*self.MMPCtarg + 0.5*self.SSperturbance**2.0*self.MMMPCtarg\n",
    "        MPC_perturb_hi = self.MPCtarg + self.SSperturbance*self.MMPCtarg + 0.5*self.SSperturbance**2.0*self.MMMPCtarg\n",
    "        MPC_list = [MPC_perturb_lo, self.MPCtarg, MPC_perturb_hi]\n",
    "        \n",
    "        # Set bounds for money (stable arm construction stops when these are exceeded)\n",
    "        self.mLowerBnd = 1.0\n",
    "        self.mUpperBnd = 2.0*self.mTarg\n",
    "        \n",
    "        # Make the terminal period solution\n",
    "        solution_terminal = TractableConsumerSolution(mNrm_list=mNrm_list,cNrm_list=cNrm_list,MPC_list=MPC_list)\n",
    "        self.solution_terminal = solution_terminal\n",
    "        \n",
    "        # Make two linear steady state functions\n",
    "        self.cSSfunc = lambda m : m*((self.Rnrm*self.PFMPC*Pi)/(1.0+self.Rnrm*self.PFMPC*Pi))\n",
    "        self.mSSfunc = lambda m : (self.PermGroFacCmp/self.Rfree)+(1.0-self.PermGroFacCmp/self.Rfree)*m\n",
    "                \n",
    "    def postSolve(self):\n",
    "        '''\n",
    "        This method adds consumption at m=0 to the list of stable arm points,\n",
    "        then constructs the consumption function as a cubic interpolation over\n",
    "        those points.  Should be run after the backshooting routine is complete.\n",
    "        \n",
    "        Parameters\n",
    "        ----------\n",
    "        none\n",
    "        \n",
    "        Returns\n",
    "        -------\n",
    "        none\n",
    "        '''\n",
    "        # Add bottom point to the stable arm points\n",
    "        self.solution[0].mNrm_list.insert(0,0.0)\n",
    "        self.solution[0].cNrm_list.insert(0,0.0)\n",
    "        self.solution[0].MPC_list.insert(0,self.MPCmax)\n",
    "        \n",
    "        # Construct an interpolation of the consumption function from the stable arm points\n",
    "        self.solution[0].cFunc = CubicInterp(self.solution[0].mNrm_list,self.solution[0].cNrm_list,\n",
    "                                             self.solution[0].MPC_list,self.PFMPC*(self.h-1.0),self.PFMPC)\n",
    "        self.solution[0].cFunc_U = lambda m : self.PFMPC*m\n",
    "        \n",
    "    def update():\n",
    "        '''\n",
    "        This method does absolutely nothing, but should remain here for compati-\n",
    "        bility with cstwMPC when doing the \"tractable\" version.\n",
    "        '''\n",
    "        return None\n",
    "        \n",
    "    def simBirth(self,which_agents):\n",
    "        '''\n",
    "        Makes new consumers for the given indices.  Initialized variables include aNrm, as\n",
    "        well as time variables t_age and t_cycle.  Normalized assets are drawn from a lognormal\n",
    "        distributions given by aLvlInitMean and aLvlInitStd.\n",
    "        \n",
    "        Parameters\n",
    "        ----------\n",
    "        which_agents : np.array(Bool)\n",
    "            Boolean array of size self.AgentCount indicating which agents should be \"born\".\n",
    "        \n",
    "        Returns\n",
    "        -------\n",
    "        None\n",
    "        '''\n",
    "        # Get and store states for newly born agents\n",
    "        N = np.sum(which_agents) # Number of new consumers to make      \n",
    "        self.aLvlNow[which_agents] = drawLognormal(N,mu=self.aLvlInitMean,sigma=self.aLvlInitStd,seed=self.RNG.randint(0,2**31-1))\n",
    "        self.eStateNow[which_agents] = 1.0 # Agents are born employed\n",
    "        self.t_age[which_agents]   = 0 # How many periods since each agent was born\n",
    "        self.t_cycle[which_agents] = 0 # Which period of the cycle each agent is currently in\n",
    "        return None\n",
    "        \n",
    "    def simDeath(self):\n",
    "        '''\n",
    "        Trivial function that returns boolean array of all False, as there is no death.\n",
    "        \n",
    "        Parameters\n",
    "        ----------\n",
    "        None\n",
    "        \n",
    "        Returns\n",
    "        -------\n",
    "        which_agents : np.array(bool)\n",
    "            Boolean array of size AgentCount indicating which agents die.\n",
    "        '''\n",
    "        # Nobody dies in this model\n",
    "        which_agents = np.zeros(self.AgentCount,dtype=bool)\n",
    "        return which_agents\n",
    "        \n",
    "    def getShocks(self):\n",
    "        '''\n",
    "        Determine which agents switch from employment to unemployment.  All unemployed agents remain\n",
    "        unemployed until death.\n",
    "        \n",
    "        Parameters\n",
    "        ----------\n",
    "        None\n",
    "        \n",
    "        Returns\n",
    "        -------\n",
    "        None\n",
    "        '''\n",
    "        employed = self.eStateNow == 1.0\n",
    "        N = int(np.sum(employed))\n",
    "        newly_unemployed = drawBernoulli(N,p=self.UnempPrb,seed=self.RNG.randint(0,2**31-1))\n",
    "        self.eStateNow[employed] = 1.0 - newly_unemployed\n",
    "        \n",
    "    def getStates(self):\n",
    "        '''\n",
    "        Calculate market resources for all agents this period.\n",
    "        \n",
    "        Parameters\n",
    "        ----------\n",
    "        None\n",
    "        \n",
    "        Returns\n",
    "        -------\n",
    "        None\n",
    "        '''\n",
    "        self.bLvlNow = self.Rfree*self.aLvlNow\n",
    "        self.mLvlNow = self.bLvlNow + self.eStateNow\n",
    "        \n",
    "    def getControls(self):\n",
    "        '''\n",
    "        Calculate consumption for each agent this period.\n",
    "        \n",
    "        Parameters\n",
    "        ----------\n",
    "        None\n",
    "        \n",
    "        Returns\n",
    "        -------\n",
    "        None\n",
    "        '''\n",
    "        employed = self.eStateNow == 1.0\n",
    "        unemployed = np.logical_not(employed)\n",
    "        cLvlNow = np.zeros(self.AgentCount)\n",
    "        cLvlNow[employed] = self.solution[0].cFunc(self.mLvlNow[employed])\n",
    "        cLvlNow[unemployed] = self.solution[0].cFunc_U(self.mLvlNow[unemployed])\n",
    "        self.cLvlNow = cLvlNow\n",
    "        \n",
    "    def getPostStates(self):\n",
    "        '''\n",
    "        Calculates end-of-period assets for each consumer of this type.\n",
    "        \n",
    "        Parameters\n",
    "        ----------\n",
    "        None\n",
    "        \n",
    "        Returns\n",
    "        -------\n",
    "        None\n",
    "        '''\n",
    "        self.aLvlNow = self.mLvlNow - self.cLvlNow\n",
    "        return None"
   ]
  },
  {
   "cell_type": "markdown",
   "metadata": {},
   "source": [
    "Now that we have defined how the model is structured and will be solved, we can input parameter values and solve the model.  We begin by creating a dictionary describing the base primitives of the model.  We set values for these parameters."
   ]
  },
  {
   "cell_type": "code",
   "execution_count": 31,
   "metadata": {
    "collapsed": true
   },
   "outputs": [],
   "source": [
    "# Define the model primitives\n",
    "base_primitives = {'UnempPrb' : .00625,    # Probability of becoming unemployed\n",
    "                       'DiscFac' : 0.975,      # Intertemporal discount factor\n",
    "                       'Rfree' : 1.01,         # Risk-free interest factor on assets\n",
    "                       'PermGroFac' : 1.0025,  # Permanent income growth factor (uncompensated)\n",
    "                       'CRRA' : 1.0}           # Coefficient of relative risk aversion\n",
    "                       \n",
    "    "
   ]
  },
  {
   "cell_type": "markdown",
   "metadata": {},
   "source": [
    "We now instantiate an TractableConsumer agent using the base primitives: in other words, we **make an agent**"
   ]
  },
  {
   "cell_type": "code",
   "execution_count": 32,
   "metadata": {
    "collapsed": true
   },
   "outputs": [],
   "source": [
    "                 \n",
    "# Make and solve a tractable consumer type\n",
    "ExampleAgent_sim = TractableConsumerType(**base_primitives)\n",
    "    "
   ]
  },
  {
   "cell_type": "code",
   "execution_count": null,
   "metadata": {},
   "outputs": [],
   "source": [
    "    ExampleAgent_sim.solve()\n",
    "    \n",
    "    #print('Solving a tractable consumption-savings model took ' + str(t_end-t_start) + ' seconds.')\n",
    "    \n",
    "    # Plot the consumption function and whatnot\n",
    "    m_upper = 1.5*ExampleAgent_sim.mTarg\n",
    "    conFunc_PF = lambda m: ExampleAgent_sim.h*ExampleAgent_sim.PFMPC + ExampleAgent_sim.PFMPC*m\n",
    "    #plotFuncs([ExampleAgent_sim.solution[0].cFunc,ExampleAgent_sim.mSSfunc,ExampleAgent_sim.cSSfunc],0,m_upper)\n",
    "    lgd = {'x':'xvals','y':'yvals'}\n",
    "    plotFuncs([ExampleAgent_sim.solution[0].cFunc,ExampleAgent_sim.solution[0].cFunc_U],0,m_upper,legend_kwds= lgd)\n",
    "    \n",
    "    do_simulation = True # NEED TO DESCRIBE THIS\n",
    "    \n",
    "    # Define a dictionary to be used in case of simulation\n",
    "    simulation_values = {'aLvlInitMean' : 0.0,  # Mean of log initial assets for new agents \n",
    "                         'aLvlInitStd' : 1.0,   # Stdev of log initial assets for new agents\n",
    "                         'AgentCount' : 10000,  # Number of agents to simulate\n",
    "                         'T_sim' : 120,         # Number of periods to simulate\n",
    "                         'T_cycle' : 1}         # Number of periods in the cycle\n",
    "    \n",
    "    if do_simulation:\n",
    "        ExampleAgent_sim(**simulation_values) # Set attributes needed for simulation\n",
    "        ExampleAgent_sim.track_vars = ['mLvlNow']\n",
    "        ExampleAgent_sim.makeShockHistory()\n",
    "        ExampleAgent_sim.initializeSim()\n",
    "        ExampleAgent_sim.simulate()\n",
    "        \n",
    "    \n",
    "    # Now solve the same model using backward induction rather than the analytic method of TBS.\n",
    "    # The TBS model is equivalent to a Markov model with two states, one of them absorbing (permanent unemployment).\n",
    "    MrkvArray = np.array([[1.0-base_primitives['UnempPrb'],base_primitives['UnempPrb']],[0.0,1.0]]) # Define the two state, absorbing unemployment Markov array\n",
    "    init_consumer_objects = {\"CRRA\":base_primitives['CRRA'],\n",
    "                            \"Rfree\":np.array(2*[base_primitives['Rfree']]), # Interest factor (same in both states)\n",
    "                            \"PermGroFac\":[np.array(2*[base_primitives['PermGroFac']/(1.0-base_primitives['UnempPrb'])])], # Unemployment-compensated permanent growth factor\n",
    "                            \"BoroCnstArt\":None,   # Artificial borrowing constraint\n",
    "                            \"PermShkStd\":[0.0],   # Permanent shock standard deviation\n",
    "                            \"PermShkCount\":1,     # Number of shocks in discrete permanent shock distribution\n",
    "                            \"TranShkStd\":[0.0],   # Transitory shock standard deviation\n",
    "                            \"TranShkCount\":1,     # Number of shocks in discrete permanent shock distribution\n",
    "                            \"T_cycle\":1,          # Number of periods in cycle\n",
    "                            \"UnempPrb\":0.0,       # Unemployment probability (not used, as the unemployment here is *permanent*, not transitory)\n",
    "                            \"UnempPrbRet\":0.0,    # Unemployment probability when retired (irrelevant here)\n",
    "                            \"T_retire\":0,         # Age at retirement (turned off)\n",
    "                            \"IncUnemp\":0.0,       # Income when unemployed (irrelevant)\n",
    "                            \"IncUnempRet\":0.0,    # Income when unemployed and retired (irrelevant)\n",
    "                            \"aXtraMin\":0.001,     # Minimum value of assets above minimum in grid\n",
    "                            \"aXtraMax\":ExampleAgent_sim.mUpperBnd, # Maximum value of assets above minimum in grid\n",
    "                            \"aXtraCount\":48,      # Number of points in assets grid\n",
    "                            \"aXtraExtra\":[None],  # Additional points to include in assets grid\n",
    "                            \"aXtraNestFac\":3,     # Degree of exponential nesting when constructing assets grid\n",
    "                            \"LivPrb\":[np.array([1.0,1.0])], # Survival probability\n",
    "                            \"DiscFac\":base_primitives['DiscFac'], # Intertemporal discount factor\n",
    "                            'AgentCount':1,       # Number of agents in a simulation (irrelevant)\n",
    "                            'tax_rate':0.0,       # Tax rate on labor income (irrelevant)\n",
    "                            'vFuncBool':False,    # Whether to calculate the value function\n",
    "                            'CubicBool':True,     # Whether to use cubic splines (False --> linear splines)\n",
    "                            'MrkvArray':[MrkvArray] # State transition probabilities\n",
    "                            }\n",
    "    MarkovType = MarkovConsumerType(**init_consumer_objects)   # Make a basic consumer type\n",
    "    employed_income_dist = [np.ones(1),np.ones(1),np.ones(1)]    # Income distribution when employed\n",
    "    unemployed_income_dist = [np.ones(1),np.ones(1),np.zeros(1)] # Income distribution when permanently unemployed\n",
    "    MarkovType.IncomeDstn = [[employed_income_dist,unemployed_income_dist]]  # set the income distribution in each state\n",
    "    MarkovType.cycles = 0\n",
    "    \n",
    "    # Solve the \"Markov TBS\" model\n",
    "    t_start = clock()\n",
    "    MarkovType.solve()\n",
    "    t_end = clock()\n",
    "    MarkovType.unpackcFunc()\n",
    "    \n",
    "    print('Solving the same model \"the long way\" took ' + str(t_end-t_start) + ' seconds.')\n",
    "    #plotFuncs([ExampleAgent_sim.solution[0].cFunc,ExampleAgent_sim.solution[0].cFunc_U],0,m_upper)\n",
    "    plotFuncs(MarkovType.cFunc[0],0,m_upper)\n",
    "    diffFunc = lambda m : ExampleAgent_sim.solution[0].cFunc(m) - MarkovType.cFunc[0][0](m)\n",
    "    print('Difference between the (employed) consumption functions:')\n",
    "    plotFuncs(diffFunc,0,m_upper)"
   ]
  },
  {
   "cell_type": "markdown",
   "metadata": {},
   "source": [
    "We solve the model using HARK simulation. Specifically, we use a method of the superclass `AgentType` (the subclass, `TractableConsumerType` inherits all methods of the superclass, then can add/ modify methods to fit the subclass). The method is, unsurprisingly, named `simulate`.\n",
    "<br/>\n",
    "The `simulate` method iterates over the lifetime of the agent (set via the parameter `T_sim`) and, each period, uses the parameters initially given (prior to the `.simulate()` call) to compute the expected outcome of each period. Thus, we simulate the agent's life based on the inputs to determine the solution to the consumer's optimization problem (save vs. consume) at each period. We then use the values at each period to describe the function that characterizes the solution (optimal saving vs consumption). \n",
    "<br/>\n",
    "<br/>\n",
    "Below, we solve the consumption-saving problem via simulation."
   ]
  },
  {
   "cell_type": "code",
   "execution_count": 45,
   "metadata": {},
   "outputs": [
    {
     "data": {
      "image/png": "[encoded data removed]",
      "text/plain": [
       "<matplotlib.figure.Figure at 0x7fcc2c9e7390>"
      ]
     },
     "metadata": {},
     "output_type": "display_data"
    }
   ],
   "source": [
    "\n",
    "ExampleAgent_sim.solve()\n",
    "do_simulation = True # NEED TO DESCRIBE THIS\n",
    "    \n",
    "    # Define a dictionary to be used in case of simulation\n",
    "simulation_values = {'aLvlInitMean' : 0.0,  # Mean of log initial assets for new agents \n",
    "                         'aLvlInitStd' : 1.0,   # Stdev of log initial assets for new agents\n",
    "                         'AgentCount' : 10000,  # Number of agents to simulate\n",
    "                         'T_sim' : 120,         # Number of periods to simulate\n",
    "                         'T_cycle' : 1}         # Number of periods in the cycle\n",
    "    \n",
    "if do_simulation:\n",
    "    ExampleAgent_sim(**simulation_values) # Set attributes needed for simulation\n",
    "    ExampleAgent_sim.track_vars = ['mLvlNow']\n",
    "    ExampleAgent_sim.makeShockHistory()\n",
    "    ExampleAgent_sim.initializeSim()\n",
    "    ExampleAgent_sim.simulate()\n",
    "    m_upper = 1.5*ExampleAgent_sim.mTarg\n",
    "        \n",
    "        \n",
    "conFunc_PF = lambda m: ExampleAgent_sim.h*ExampleAgent_sim.PFMPC + ExampleAgent_sim.PFMPC*m\n",
    "    #plotFuncs([ExampleAgent_sim.solution[0].cFunc,ExampleAgent_sim.mSSfunc,ExampleAgent_sim.cSSfunc],0,m_upper)\n",
    "modprims = {'UnempPrb' : .000625,    # Probability of becoming unemployed\n",
    "    'DiscFac' : 0.975,      # Intertemporal discount factor\n",
    "    'Rfree' : 1.01,         # Risk-free interest factor on assets\n",
    "    'PermGroFac' : 1.25,  # Permanent income growth factor (uncompensated)\n",
    "    'CRRA' : 1.0} \n",
    "ex2 = TractableConsumerType(**modprims)\n",
    "ex2.solve()\n",
    "plotFuncs([ExampleAgent_sim.solution[0].cFunc,ExampleAgent_sim.solution[0].cFunc_U, ex2.solution[0].cFunc],0,m_upper, \n",
    "          legend_kwds = {'x':'line','y':'linez'})\n"
   ]
  },
  {
   "cell_type": "markdown",
   "metadata": {},
   "source": [
    "We now compare our solution via simulation to the solution by backward induction, using a Markov model with two states"
   ]
  },
  {
   "cell_type": "code",
   "execution_count": 35,
   "metadata": {},
   "outputs": [
    {
     "name": "stdout",
     "output_type": "stream",
     "text": [
      "Solving the same model \"the long way\" took 2.099217 seconds.\n"
     ]
    },
    {
     "data": {
      "image/png": "[encoded data removed]",
      "text/plain": [
       "<matplotlib.figure.Figure at 0x7fcc341c5710>"
      ]
     },
     "metadata": {},
     "output_type": "display_data"
    },
    {
     "name": "stdout",
     "output_type": "stream",
     "text": [
      "Difference between the (employed) consumption functions:\n"
     ]
    },
    {
     "data": {
      "image/png": "[encoded data removed]",
      "text/plain": [
       "<matplotlib.figure.Figure at 0x7fcc2ccca950>"
      ]
     },
     "metadata": {},
     "output_type": "display_data"
    }
   ],
   "source": [
    "    # Now solve the same model using backward induction rather than the analytic method of TBS.\n",
    "    # The TBS model is equivalent to a Markov model with two states, one of them absorbing (permanent unemployment).\n",
    "    MrkvArray = np.array([[1.0-base_primitives['UnempPrb'],base_primitives['UnempPrb']],[0.0,1.0]]) # Define the two state, absorbing unemployment Markov array\n",
    "    init_consumer_objects = {\"CRRA\":base_primitives['CRRA'],\n",
    "                            \"Rfree\":np.array(2*[base_primitives['Rfree']]), # Interest factor (same in both states)\n",
    "                            \"PermGroFac\":[np.array(2*[base_primitives['PermGroFac']/(1.0-base_primitives['UnempPrb'])])], # Unemployment-compensated permanent growth factor\n",
    "                            \"BoroCnstArt\":None,   # Artificial borrowing constraint\n",
    "                            \"PermShkStd\":[0.0],   # Permanent shock standard deviation\n",
    "                            \"PermShkCount\":1,     # Number of shocks in discrete permanent shock distribution\n",
    "                            \"TranShkStd\":[0.0],   # Transitory shock standard deviation\n",
    "                            \"TranShkCount\":1,     # Number of shocks in discrete permanent shock distribution\n",
    "                            \"T_cycle\":1,          # Number of periods in cycle\n",
    "                            \"UnempPrb\":0.0,       # Unemployment probability (not used, as the unemployment here is *permanent*, not transitory)\n",
    "                            \"UnempPrbRet\":0.0,    # Unemployment probability when retired (irrelevant here)\n",
    "                            \"T_retire\":0,         # Age at retirement (turned off)\n",
    "                            \"IncUnemp\":0.0,       # Income when unemployed (irrelevant)\n",
    "                            \"IncUnempRet\":0.0,    # Income when unemployed and retired (irrelevant)\n",
    "                            \"aXtraMin\":0.001,     # Minimum value of assets above minimum in grid\n",
    "                            \"aXtraMax\":ExampleAgent_sim.mUpperBnd, # Maximum value of assets above minimum in grid\n",
    "                            \"aXtraCount\":48,      # Number of points in assets grid\n",
    "                            \"aXtraExtra\":[None],  # Additional points to include in assets grid\n",
    "                            \"aXtraNestFac\":3,     # Degree of exponential nesting when constructing assets grid\n",
    "                            \"LivPrb\":[np.array([1.0,1.0])], # Survival probability\n",
    "                            \"DiscFac\":base_primitives['DiscFac'], # Intertemporal discount factor\n",
    "                            'AgentCount':1,       # Number of agents in a simulation (irrelevant)\n",
    "                            'tax_rate':0.0,       # Tax rate on labor income (irrelevant)\n",
    "                            'vFuncBool':False,    # Whether to calculate the value function\n",
    "                            'CubicBool':True,     # Whether to use cubic splines (False --> linear splines)\n",
    "                            'MrkvArray':[MrkvArray] # State transition probabilities\n",
    "                            }\n",
    "    MarkovType = MarkovConsumerType(**init_consumer_objects)   # Make a basic consumer type\n",
    "    employed_income_dist = [np.ones(1),np.ones(1),np.ones(1)]    # Income distribution when employed\n",
    "    unemployed_income_dist = [np.ones(1),np.ones(1),np.zeros(1)] # Income distribution when permanently unemployed\n",
    "    MarkovType.IncomeDstn = [[employed_income_dist,unemployed_income_dist]]  # set the income distribution in each state\n",
    "    MarkovType.cycles = 0\n",
    "    \n",
    "    # Solve the \"Markov TBS\" model\n",
    "    t_start = clock()\n",
    "    MarkovType.solve()\n",
    "    t_end = clock()\n",
    "    MarkovType.unpackcFunc()\n",
    "    \n",
    "    print('Solving the same model \"the long way\" took ' + str(t_end-t_start) + ' seconds.')\n",
    "    #plotFuncs([ExampleAgent_sim.solution[0].cFunc,ExampleAgent_sim.solution[0].cFunc_U],0,m_upper)\n",
    "    plotFuncs(MarkovType.cFunc[0],0,m_upper)\n",
    "    diffFunc = lambda m : ExampleAgent_sim.solution[0].cFunc(m) - MarkovType.cFunc[0][0](m)\n",
    "    print('Difference between the (employed) consumption functions:')\n",
    "    plotFuncs(diffFunc,0,m_upper)"
   ]
  },
  {
   "cell_type": "code",
   "execution_count": null,
   "metadata": {
    "collapsed": true
   },
   "outputs": [],
   "source": []
  }
 ],
 "metadata": {
  "kernelspec": {
   "display_name": "Python 2",
   "language": "python",
   "name": "python2"
  },
  "language_info": {
   "codemirror_mode": {
    "name": "ipython",
    "version": 2
   },
   "file_extension": ".py",
   "mimetype": "text/x-python",
   "name": "python",
   "nbconvert_exporter": "python",
   "pygments_lexer": "ipython2",
   "version": "2.7.13"
  }
 },
 "nbformat": 4,
 "nbformat_minor": 2
}
