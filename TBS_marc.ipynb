{
 "cells": [
  {
   "cell_type": "code",
   "execution_count": 23,
   "metadata": {
    "collapsed": true
   },
   "outputs": [],
   "source": [
    "import os"
   ]
  },
  {
   "cell_type": "code",
   "execution_count": 24,
   "metadata": {},
   "outputs": [
    {
     "data": {
      "text/plain": [
       "'/home/marc/Git/HARK/ConsumptionSaving'"
      ]
     },
     "execution_count": 24,
     "metadata": {},
     "output_type": "execute_result"
    }
   ],
   "source": [
    "os.getcwd()"
   ]
  },
  {
   "cell_type": "code",
   "execution_count": 25,
   "metadata": {
    "collapsed": true
   },
   "outputs": [],
   "source": [
    "#change the line below to your local HARK file location\n",
    "os.chdir('/home/marc/Git/HARK')"
   ]
  },
  {
   "cell_type": "code",
   "execution_count": 26,
   "metadata": {},
   "outputs": [
    {
     "data": {
      "text/plain": [
       "'/home/marc/Git/HARK'"
      ]
     },
     "execution_count": 26,
     "metadata": {},
     "output_type": "execute_result"
    }
   ],
   "source": [
    "os.getcwd()"
   ]
  },
  {
   "cell_type": "code",
   "execution_count": 27,
   "metadata": {},
   "outputs": [
    {
     "name": "stdout",
     "output_type": "stream",
     "text": [
      "\u001b[0m\u001b[01;34mcAndCwithStickyE\u001b[0m/   HARKestimation.py      HARKutilities.pyc\r\n",
      "\u001b[01;34mConsumptionSaving\u001b[0m/  HARKinterpolation.py   __index__.py\r\n",
      "\u001b[01;34mcstwMPC\u001b[0m/            HARKinterpolation.pyc  LICENSE\r\n",
      "\u001b[01;34mDocumentation\u001b[0m/      HARKparallel.py        README.md\r\n",
      "\u001b[01;34mFashionVictim\u001b[0m/      HARKsimulation.py      \u001b[01;34mSolvingMicroDSOPs\u001b[0m/\r\n",
      "HARKcore.py         HARKsimulation.pyc     \u001b[01;34mTesting\u001b[0m/\r\n",
      "HARKcore.pyc        HARKutilities.py\r\n"
     ]
    }
   ],
   "source": [
    "ls"
   ]
  },
  {
   "cell_type": "markdown",
   "metadata": {},
   "source": [
    "# Implementation of a Tractable Model Of Buffer Stock Saving \n",
    "\n",
    "\n",
    "&nbsp;&nbsp;&nbsp;&nbsp;&nbsp;&nbsp;This notebook implements the Carroll et. al.'s Tractable Model of Buffer Stock Saving (2009) using HARK.  The notebook is intended as a guide to using HARK, and provides only a basic outline of the model.  For a full theoretical explanation, see the [Lecture Notes for the Tractable Model](http://www.econ2.jhu.edu/people/ccarroll/public/LectureNotes/Consumption/TractableBufferStock.pdf).  \n",
    "\n",
    "&nbsp;&nbsp;&nbsp;&nbsp;&nbsp;&nbsp;In this notebook, we solve the consumer's consumption vs. saving optimization problem\n",
    "using HARK's simulation method. We compare the solution obtained via simulation to the solution obtained via traditional analytical methods, demonstrating the efficiency and applicability of HARK's simulation method.\n",
    "<br/><br/>\n",
    "The consumer's problem is optimizing utility derived from consumption for the current period $t$ until end of life $T$,\n",
    "<br/>\n",
    "$max \\: E_{t} \\Big[ \\sum_{n=0}^{T-t} \\beta^n u(\\textbf{c}_{t+n})\\Big]   $\n",
    "<br/><br/>\n",
    "The solution is characterized by the below elements, making up the consumer's Dynamic Budget Constraint,<br/>\n",
    "$\\textbf{a}_{t} = \\textbf{m}_{t} - \\textbf{c}_{t}$<br/>\n",
    "$\\textbf{b}_{t+1} = R\\textbf{a}_{t}$<br/>\n",
    "$\\textbf{m}_{t+1} = \\textbf{b}_{t+1}+\\ell_{t+1}W_{t+1}\\xi_{t+1}$\n",
    "<br/>\n",
    "where $\\textbf{a}$ is end-of-period assets (after the period's consumption decision); $\\textbf{m}$ is market resources (net worth plus current income); $\\textbf{c}$ is consumption; $\\textbf{b}$ is bank balance before receipt of labor income;$\\textbf{R}$ is constant interest factor; $\\ell$ measures the consumer's labor productivity ('endowment'); $W$ is the aggregate wage rate; and $\\xi$ is a dummy variable indicating consumer's employment state ('e' employed or 'u' unemployed.\n",
    "<br/><br/>\n",
    "The goal is to find the optimal consumption, $c_{t}$, for a given amount of market resources, $m_{t}$. This is accomplished via the consumption Euler equation,<br/>\n",
    "$\\frac{c_{t+1}^e}{c_{t}^e}=P_{\\Gamma}\\Bigg\\{1 + \\Upsilon\\bigg[\\bigg(\\frac{c_{t+1}^e}{c_{t+1}^u}\\bigg)^\\rho-1\\bigg]\\Bigg\\}^{1/\\rho}$\n",
    "<br/>\n",
    "<br/>\n",
    "where $\\Upsilon$ is the probability a consumer becomes unemployed,<br/>\n",
    "$P_{\\Gamma}$ is the 'growth patience factor',<br/>\n",
    "&nbsp; &nbsp;&nbsp; &nbsp;&nbsp; &nbsp;$P_{\\Gamma}=\\bigg(\\frac{(R\\beta)^{1/\\rho}}{\\Gamma}\\bigg)$ &nbsp; &nbsp; with $\\Gamma=G/(1-\\Upsilon)$, &nbsp; $G$ is the labor income growth factor, &nbsp; $1-\\Upsilon$ is the probability a consumer remains employed, &nbsp;\n",
    "<br/>&nbsp; &nbsp;&nbsp; &nbsp;&nbsp; &nbsp; $\\beta$ is the discount factor, and $\\rho$ is the consumer's prudence factor (a more in-depth discussion of the mathematical relationship between factors can be found in [the lecture notes](http://www.econ2.jhu.edu/people/ccarroll/public/LectureNotes/Consumption/TractableBufferStock.pdf)).  \n",
    "<br/>\n",
    "HARK solves the model by inverting the Euler equation to find what consumption \"must have been\" in the previous period. The consumption function is thus constructed by repeatedly adding \"stable arm\" points to either end of a growing list until specified bounds are exceeded.\n",
    "<br/><br/>\n",
    "&nbsp;&nbsp;&nbsp;&nbsp;&nbsp;&nbsp;To begin, we import several routines from HARK.  They will be explained as they are used throughout the notebook, but by convention, imports are written at the begining of all code."
   ]
  },
  {
   "cell_type": "code",
   "execution_count": 28,
   "metadata": {
    "collapsed": true
   },
   "outputs": [],
   "source": [
    "import numpy as np                   # numeric Python\n",
    "from time import clock               # timing utility\n",
    "    \n",
    "import scipy \n",
    "from scipy import * \n",
    "from HARKutilities import plotFuncs  # basic plotting tools\n",
    "from HARKcore import AgentType #the agent used in the simulation\n",
    "os.chdir(os.getcwd()+\"/ConsumptionSaving\") #change directory to import additional modules\n",
    "from TractableBufferStockModel import * #importing the entire TractableBufferStockModel module\n",
    "from ConsMarkovModel import MarkovConsumerType #this routine will be used to solve the TBS model\n",
    "    #the 'long way'\n",
    "    "
   ]
  },
  {
   "cell_type": "markdown",
   "metadata": {},
   "source": [
    "\n"
   ]
  },
  {
   "cell_type": "markdown",
   "metadata": {},
   "source": [
    "Above, we imported the `TractableBufferStockModel` module, which includes a subclass of `AgentType`, the `TractableConsumerType`. We now review the `TractableConsumerType` subclass, which will help explain how the model uses the consumption Euler function, and how the function is input in Python. The code below is for educational purposes only: Python already 'knows' the code (from the import call above). For those already familiar with the code, skip to `In[INSERTNUMBER]` to continue with the actual modelling."
   ]
  },
  {
   "cell_type": "markdown",
   "metadata": {},
   "source": [
    "<div style=\"background-color:#F0F0F0\"><p><span style=\"color:green\"><b>class</b></span> <span style=\"color:blue\">TractableConsumerType</span>(AgentType):\n",
    "<br/><br/>\n",
    "&nbsp;&nbsp;&nbsp;&nbsp;&nbsp;&nbsp;<span style=\"color:green\"><b>def</b></span> <span style=\"color:blue\">\\__init\\__</span>(self, cycles=<span style=\"color:green\">0</span>,time_flow=<span style=\"color:green\">False</span>,<span style=\"color:#FF00FF\">&#42;&#42;</span>kwds):\n",
    "<br/>\n",
    "<span style=\"color:DarkRed\">\n",
    "&nbsp;&nbsp;&nbsp;&nbsp;&nbsp;&nbsp;&nbsp;&nbsp;&nbsp;&nbsp;&nbsp;&nbsp;'''<br/>\n",
    "&nbsp;&nbsp;&nbsp;&nbsp;&nbsp;&nbsp;&nbsp;&nbsp;&nbsp;&nbsp;&nbsp;&nbsp;Parameters<br/>\n",
    "&nbsp;&nbsp;&nbsp;&nbsp;&nbsp;&nbsp;&nbsp;&nbsp;&nbsp;&nbsp;&nbsp;&nbsp;----------<br/>\n",
    "&nbsp;&nbsp;&nbsp;&nbsp;&nbsp;&nbsp;&nbsp;&nbsp;&nbsp;&nbsp;&nbsp;&nbsp;cycles : int<br/>\n",
    "&nbsp;&nbsp;&nbsp;&nbsp;&nbsp;&nbsp;&nbsp;&nbsp;&nbsp;&nbsp;&nbsp;&nbsp;&nbsp;&nbsp;&nbsp;&nbsp;&nbsp;&nbsp;Number of times the sequence of periods should be solved.<br/>\n",
    "&nbsp;&nbsp;&nbsp;&nbsp;&nbsp;&nbsp;&nbsp;&nbsp;&nbsp;&nbsp;&nbsp;&nbsp;time_flow : boolean<br/>\n",
    "&nbsp;&nbsp;&nbsp;&nbsp;&nbsp;&nbsp;&nbsp;&nbsp;&nbsp;&nbsp;&nbsp;&nbsp;&nbsp;&nbsp;&nbsp;&nbsp;&nbsp;&nbsp;Whether the time is currently \"flowing\" forward for this instance.<br/><br/>\n",
    "&nbsp;&nbsp;&nbsp;&nbsp;&nbsp;&nbsp;&nbsp;&nbsp;&nbsp;&nbsp;&nbsp;&nbsp;Returns<br/>\n",
    "&nbsp;&nbsp;&nbsp;&nbsp;&nbsp;&nbsp;&nbsp;&nbsp;&nbsp;&nbsp;&nbsp;&nbsp;-------<br/>\n",
    "&nbsp;&nbsp;&nbsp;&nbsp;&nbsp;&nbsp;&nbsp;&nbsp;&nbsp;&nbsp;&nbsp;&nbsp;New instance of TractableConsumerType.<br/>\n",
    "&nbsp;&nbsp;&nbsp;&nbsp;&nbsp;&nbsp;&nbsp;&nbsp;&nbsp;&nbsp;&nbsp;&nbsp;'''</span><br/><br/>\n",
    "&nbsp;&nbsp;&nbsp;&nbsp;&nbsp;&nbsp;&nbsp;&nbsp;&nbsp;&nbsp;&nbsp;&nbsp;<span style=\"color:Teal\"># Initialize a basic AgentType</span><br/>\n",
    "&nbsp;&nbsp;&nbsp;&nbsp;&nbsp;&nbsp;&nbsp;&nbsp;&nbsp;&nbsp;&nbsp;&nbsp;AgentType.__init__(self,cycles=cycles, time_flow=time_flow, pseudo_terminal=True,<span style=\"color:#FF00FF\">&#42;&#42;</span>kwds)\n",
    "<br/><br/>\n",
    "&nbsp;&nbsp;&nbsp;&nbsp;&nbsp;&nbsp;&nbsp;&nbsp;&nbsp;&nbsp;&nbsp;&nbsp;<span style=\"color:Teal\"># Add consumer-type specific objects, copying to create independent versions:</span><br/>\n",
    "&nbsp;&nbsp;&nbsp;&nbsp;&nbsp;&nbsp;&nbsp;&nbsp;&nbsp;&nbsp;&nbsp;&nbsp;self.time_vary= [ ]<br/>\n",
    "&nbsp;&nbsp;&nbsp;&nbsp;&nbsp;&nbsp;&nbsp;&nbsp;&nbsp;&nbsp;&nbsp;&nbsp;<span style=\"color:Teal\"> #time-variant variables. These (cycles) are actually defined above in the __init__ call</span><br/>\n",
    "&nbsp;&nbsp;&nbsp;&nbsp;&nbsp;&nbsp;&nbsp;&nbsp;&nbsp;&nbsp;&nbsp;&nbsp;self.time_inv= ['DiscFac','Rfree','CRRA','PermGroFacCmp','UnempPrb','PFMPC','Rnrm','Beth','mLowerBnd','mUpperBnd']<br/>                 &nbsp;&nbsp;&nbsp;&nbsp;&nbsp;&nbsp;&nbsp;&nbsp;&nbsp;&nbsp;&nbsp;&nbsp;&nbsp;&nbsp;&nbsp;&nbsp;&nbsp;&nbsp;<span style=\"color:Teal\"> # time-invariant variables</span><br/>\n",
    "&nbsp;&nbsp;&nbsp;&nbsp;&nbsp;&nbsp;&nbsp;&nbsp;&nbsp;&nbsp;&nbsp;&nbsp;self.shock_vars= ['eStateNow'] <span style=\"color:teal\"> #current employment state (employed, unemployed), used for<br/>\n",
    "&nbsp;&nbsp;&nbsp;&nbsp;&nbsp;&nbsp;&nbsp;&nbsp;&nbsp;&nbsp;&nbsp;&nbsp;&nbsp;&nbsp;&nbsp;&nbsp;&nbsp;&nbsp;#tracking state changes due to economic shocks</span>\n",
    "<br/>\n",
    "&nbsp;&nbsp;&nbsp;&nbsp;&nbsp;&nbsp;&nbsp;&nbsp;&nbsp;&nbsp;&nbsp;&nbsp;self.poststate_vars= ['aLvlNow', 'eStateNow']<span style=\"color:Teal\"> # For simulation</span>\n",
    "<br/>\n",
    "&nbsp;&nbsp;&nbsp;&nbsp;&nbsp;&nbsp;&nbsp;&nbsp;&nbsp;&nbsp;&nbsp;&nbsp;self.SolveOnePeriod= addToStableArmPoints<span style=\"color:Teal\"> # set correct solve</span>\n",
    "<br/>\n",
    "\n",
    "\n",
    "</p></div>"
   ]
  },
  {
   "cell_type": "markdown",
   "metadata": {},
   "source": [
    "<p>The <span style=\"color:blue\">\\__init\\__</span> method is called every time a new `TractableConsumerType` object is instantiated. It assigns values to certain basic parameters of the object (`cycles`,`time_flow`) and names several additional variables (`DiscFac`,`Rfree`,`CRRA`,`PermGroFacCmp`,...) without assigning a value. Several of these time-invariant variables correspond to variables in the consumption Euler equation. Specifically,\n",
    "<br/>`DiscFac`: $\\beta$ &nbsp;&nbsp;`Rfree`: $R$&nbsp;&nbsp; `CRRA`: $\\rho$ &nbsp;&nbsp; `PermGroFacCmp`: $\\Gamma$ &nbsp;&nbsp; `UnempPrb`: $\\Upsilon$</p>\n",
    "\n",
    "<p>The next method (which is still code within the <span style=\"color:blue\">TractableConsumerType</span> class), <span style=\"color:blue\">presolve</span>(), calculates all of the solution objects that can be obtained before conducting the backshooting routine, including the target levels, the perfect foresight solution, (marginal) consumption at m=0, and the small perturbations around the steady state. First, the second, third and fourth derivatives of the utility function&#42; (which will be used to find the MPC, its derivative and 2nd derivative) are defined.\n",
    "<br/>\n",
    "<br/>\n",
    "&#42;$u(\\bullet)=\\frac{\\bullet^{1-\\rho}}{1-\\rho}$\n",
    "</p>\n"
   ]
  },
  {
   "cell_type": "markdown",
   "metadata": {},
   "source": [
    "<div style=\"background-color:#F0F0F0\"><p>&nbsp;&nbsp;&nbsp;&nbsp;&nbsp;&nbsp;<span style=\"color:green\"><b>def</b></span> <span style=\"color:blue\">preSolve</span>(Self):\n",
    "<br/>\n",
    "<span style=\"color:DarkRed\">\n",
    "&nbsp;&nbsp;&nbsp;&nbsp;&nbsp;&nbsp;&nbsp;&nbsp;&nbsp;&nbsp;&nbsp;&nbsp;'''<br/>\n",
    "&nbsp;&nbsp;&nbsp;&nbsp;&nbsp;&nbsp;&nbsp;&nbsp;&nbsp;&nbsp;&nbsp;&nbsp;Parameters<br/>\n",
    "&nbsp;&nbsp;&nbsp;&nbsp;&nbsp;&nbsp;&nbsp;&nbsp;&nbsp;&nbsp;&nbsp;&nbsp;----------<br/>\n",
    "&nbsp;&nbsp;&nbsp;&nbsp;&nbsp;&nbsp;&nbsp;&nbsp;&nbsp;&nbsp;&nbsp;&nbsp;none<br/>\n",
    "&nbsp;&nbsp;&nbsp;&nbsp;&nbsp;&nbsp;&nbsp;&nbsp;&nbsp;&nbsp;&nbsp;&nbsp;Returns<br/>\n",
    "&nbsp;&nbsp;&nbsp;&nbsp;&nbsp;&nbsp;&nbsp;&nbsp;&nbsp;&nbsp;&nbsp;&nbsp;-------<br/>\n",
    "&nbsp;&nbsp;&nbsp;&nbsp;&nbsp;&nbsp;&nbsp;&nbsp;&nbsp;&nbsp;&nbsp;&nbsp;none<br/>\n",
    "&nbsp;&nbsp;&nbsp;&nbsp;&nbsp;&nbsp;&nbsp;&nbsp;&nbsp;&nbsp;&nbsp;&nbsp;'''<br/></span>\n",
    "&nbsp;&nbsp;&nbsp;&nbsp;&nbsp;&nbsp;&nbsp;&nbsp;&nbsp;&nbsp;&nbsp;&nbsp;<span style=\"color:teal\">#Define utility functions</span><br/>\n",
    "&nbsp;&nbsp;&nbsp;&nbsp;&nbsp;&nbsp;&nbsp;&nbsp;&nbsp;&nbsp;&nbsp;&nbsp;uPP = lambda x : utilityPP(x,gam=self.CRRA)<br/>\n",
    "&nbsp;&nbsp;&nbsp;&nbsp;&nbsp;&nbsp;&nbsp;&nbsp;&nbsp;&nbsp;&nbsp;&nbsp;uPPP = lambda x : utilityPPP(x,gam=self.CRRA)<br/>\n",
    "&nbsp;&nbsp;&nbsp;&nbsp;&nbsp;&nbsp;&nbsp;&nbsp;&nbsp;&nbsp;&nbsp;&nbsp;uPPPP = lambda x : utilityPPPP(x,gam=self.CRRA)<br/>\n",
    "</p></div>"
   ]
  },
  {
   "cell_type": "markdown",
   "metadata": {},
   "source": [
    "<p>Several constants are then computed using inputs from the user:\n",
    "<br/><br>\n",
    "`PermGroFacCmp` (already seen above),&nbsp; $\\Gamma$ <br/>\n",
    "`Rnrm`, the net interest factor (`Rfree` normalized by wage growth: &nbsp; $R\\;/\\; \\Gamma$) \n",
    "<br/>\n",
    "`PFMPC`, the 'Return Patience Factor' &nbsp; $\\frac{(R\\beta)^{1/\\rho}}{R}$ &nbsp; described in [Carroll](http://www.econ2.jhu.edu/people/ccarroll/public/LectureNotes/Consumption/TractableBufferStock.pdf) ). \n",
    "<br/>\n",
    "and `Beth`, a constant used to calculate the 'stable arm points' by which HARK reverse engineers prior periods' consumption.\n",
    "</p>"
   ]
  },
  {
   "cell_type": "markdown",
   "metadata": {},
   "source": [
    "<div style=\"background-color:#F0F0F0\"><p>\n",
    "&nbsp;&nbsp;&nbsp;&nbsp;&nbsp;&nbsp;&nbsp;&nbsp;&nbsp;&nbsp;&nbsp;&nbsp;<span style=\"color:teal\"># Define some useful constants from model primitives</span><br/>\n",
    "&nbsp;&nbsp;&nbsp;&nbsp;&nbsp;&nbsp;&nbsp;&nbsp;&nbsp;&nbsp;&nbsp;&nbsp;self.PermGroFacCmp = self.PermGroFac/(1.0-self.UnempPrb) <span style=\"color:teal\">#uncertainty compensated</span><br/>\n",
    "&nbsp;&nbsp;&nbsp;&nbsp;&nbsp;&nbsp;&nbsp;&nbsp;&nbsp;&nbsp;&nbsp;&nbsp;&nbsp;&nbsp;&nbsp;&nbsp;&nbsp;&nbsp;<span style=\"color:teal\">#wage growth factor</span><br/>\n",
    "&nbsp;&nbsp;&nbsp;&nbsp;&nbsp;&nbsp;&nbsp;&nbsp;&nbsp;&nbsp;&nbsp;&nbsp;self.Rnrm = self.Rfree/self.PermGroFacCmp <span style=\"color:teal\"># net interest factor (Rfree normalized by<br/></span>\n",
    "&nbsp;&nbsp;&nbsp;&nbsp;&nbsp;&nbsp;&nbsp;&nbsp;&nbsp;&nbsp;&nbsp;&nbsp;&nbsp;&nbsp;&nbsp;&nbsp;&nbsp;&nbsp;<span style=\"color:teal\">#wage growth)</span><br/>\n",
    "&nbsp;&nbsp;&nbsp;&nbsp;&nbsp;&nbsp;&nbsp;&nbsp;&nbsp;&nbsp;&nbsp;&nbsp;self.PFMPC= 1.0-(self.Rfree&#42;&#42;(-1.0))&#42;(self.Rfree&#42;self.DiscFac)&#42;&#42;(1.0/self.CRRA) <span style=\"color:teal\"># MPC<br/>\n",
    "&nbsp;&nbsp;&nbsp;&nbsp;&nbsp;&nbsp;&nbsp;&nbsp;&nbsp;&nbsp;&nbsp;&nbsp;&nbsp;&nbsp;&nbsp;&nbsp;&nbsp;&nbsp;#for a perfect forsight consumer</span><br/>\n",
    "&nbsp;&nbsp;&nbsp;&nbsp;&nbsp;&nbsp;&nbsp;&nbsp;&nbsp;&nbsp;&nbsp;&nbsp;self.Beth = self.Rnrm&#42;self.DiscFac&#42;self.PermGroFacCmp&#42;&#42;(1.0-self.CRRA)\n",
    "\n",
    "<br/>\n",
    "\n",
    "</p></div>"
   ]
  },
  {
   "cell_type": "markdown",
   "metadata": {},
   "source": [
    "The method&mdash;we are still reviewing the <span style=\"color:blue\">preSolve</span>() method&mdash;then verifies that the consumer is impatient by verifying that the growth patience factor and the return patience factor (`PatFacGrowth` and `PatFacReturn`, respectively) are both less than 1.\n",
    "<br/><br/>\n",
    "The Return Patience Factor is defined as $P_{R}=\\frac{{(R\\beta)}^{1/\\rho}}{R}$, and can be thought of as the factor by which consumption changes for a change to resources given the interest rate. The important concept is that, if $P_{R} \\geq 1$ then a consumer is so patient that a boost to resources fails to boost spending (thus making the function not solvable).\n",
    "<br/>\n",
    "The Growth Patience Factor is defined as $P_{\\Gamma}=\\frac{{(R\\beta)}^{1/\\rho}}{\\Gamma}$. Similar to the Return Patience Factor, $P_{\\Gamma}$ must also be < 1; otherwise, a consumer's wealth-to-income ratio would go to infinity, which also invalidates the model (for more details, see [Appendix B](http://www.econ2.jhu.edu/people/ccarroll/public/LectureNotes/Consumption/TractableBufferStock.pdf))."
   ]
  },
  {
   "cell_type": "markdown",
   "metadata": {},
   "source": [
    "<div style=\"background-color:#F0F0F0\"><p>\n",
    "&nbsp;&nbsp;&nbsp;&nbsp;&nbsp;&nbsp;&nbsp;&nbsp;&nbsp;&nbsp;&nbsp;&nbsp;<span style=\"color:teal\"># Verify that this consumer is impatient</span><br/>\n",
    "&nbsp;&nbsp;&nbsp;&nbsp;&nbsp;&nbsp;&nbsp;&nbsp;&nbsp;&nbsp;&nbsp;&nbsp;PatFacGrowth = (self.Rfree&#42;self.DiscFac)&#42;&#42;(1.0/self.CRRA)/self.PermGroFacCmp <br/>\n",
    "&nbsp;&nbsp;&nbsp;&nbsp;&nbsp;&nbsp;&nbsp;&nbsp;&nbsp;&nbsp;&nbsp;&nbsp;PatFacReturn = (self.Rfree&#42;self.DiscFac)&#42;&#42;(1.0/self.CRRA)/self.Rfree<br/>\n",
    "&nbsp;&nbsp;&nbsp;&nbsp;&nbsp;&nbsp;&nbsp;&nbsp;&nbsp;&nbsp;&nbsp;&nbsp;if PatFacReturn >= 1.0:<br/>\n",
    "&nbsp;&nbsp;&nbsp;&nbsp;&nbsp;&nbsp;&nbsp;&nbsp;&nbsp;&nbsp;&nbsp;&nbsp;&nbsp;&nbsp;&nbsp;&nbsp;&nbsp;&nbsp;raise Exception(\"Employed consumer not return impatient, cannot solve!\")<br/>\n",
    "&nbsp;&nbsp;&nbsp;&nbsp;&nbsp;&nbsp;&nbsp;&nbsp;&nbsp;&nbsp;&nbsp;&nbsp;if PatFacGrowth >= 1.0:<br/>\n",
    "&nbsp;&nbsp;&nbsp;&nbsp;&nbsp;&nbsp;&nbsp;&nbsp;&nbsp;&nbsp;&nbsp;&nbsp;&nbsp;&nbsp;&nbsp;&nbsp;&nbsp;&nbsp;raise Exception(\"Employed consumer not growth impatient, cannot solve!\")\n",
    "</p></div>"
   ]
  },
  {
   "cell_type": "markdown",
   "metadata": {},
   "source": [
    "<p><span style=\"color:blue\">preSolve</span>() continues by defining several other relationships that will be integral to actually solving the model. The actual code is included below; however, reviewing the lecture notes will most likely offer more clarity than the code. The essential points of the remaining code in the <span style=\"color:blue\">preSolve</span>() are listed here:\n",
    "<br/>\n",
    "- The <span style=\"color:blue\">preSolve</span>() method first finds the target level of $m^e$, which is the point of intersection between the $\\triangle c^e = 0$ and $\\triangle m^e = 0$ loci.<br/>\n",
    "- It then finds the first, second and third derivatives of the consumption function at the target<br/>\n",
    "- It finds the derivative of the consumption function (which is the MPC) at m = 0<br/>\n",
    "- And then creates an initial list of Euler points (which will be used to simulate the optimal path through time of consumption at each time period)\n",
    "\n",
    "</p>"
   ]
  },
  {
   "cell_type": "markdown",
   "metadata": {},
   "source": [
    "<div style=\"background-color: #F0F0F0\"><p>\n",
    "&nbsp;&nbsp;&nbsp;&nbsp;&nbsp;&nbsp;&nbsp;&nbsp;&nbsp;&nbsp;&nbsp;&nbsp;<span style=\"color:teal\"># Find target money and consumption</span><br/>\n",
    "&nbsp;&nbsp;&nbsp;&nbsp;&nbsp;&nbsp;&nbsp;&nbsp;&nbsp;&nbsp;&nbsp;&nbsp;Pi = (1+(PatFacGrowth&#42;&#42;(-self.CRRA)-1.0)/self.UnempPrb)&#42;&#42;(1/self.CRRA)<br/>\n",
    "&nbsp;&nbsp;&nbsp;&nbsp;&nbsp;&nbsp;&nbsp;&nbsp;&nbsp;&nbsp;&nbsp;&nbsp;self.h = (1.0/(1.0-self.PermGroFac/self.Rfree)) <span style=\"color:teal\">#normalized human wealth</span><br/>\n",
    "&nbsp;&nbsp;&nbsp;&nbsp;&nbsp;&nbsp;&nbsp;&nbsp;&nbsp;&nbsp;&nbsp;&nbsp;zeta = self.Rnrm&#42;self.PFMPC&#42;Pi<br/>\n",
    "&nbsp;&nbsp;&nbsp;&nbsp;&nbsp;&nbsp;&nbsp;&nbsp;&nbsp;&nbsp;&nbsp;&nbsp;self.mTarg = 1.0+(self.Rfree/(self.PermGroFacCmp+zeta&#42;self.PermGroFacCmp-self.Rfree))<br/>\n",
    "&nbsp;&nbsp;&nbsp;&nbsp;&nbsp;&nbsp;&nbsp;&nbsp;&nbsp;&nbsp;&nbsp;&nbsp;self.cTarg = (1.0-self.Rnrm&#42;&#42;(-1.0))&#42;self.mTarg+self.Rnrm&#42;&#42;(-1.0)<br/>\n",
    "&nbsp;&nbsp;&nbsp;&nbsp;&nbsp;&nbsp;&nbsp;&nbsp;&nbsp;&nbsp;&nbsp;&nbsp;mTargU = (self.mTarg - self.cTarg)&#42;self.Rnrm<br/>\n",
    "&nbsp;&nbsp;&nbsp;&nbsp;&nbsp;&nbsp;&nbsp;&nbsp;&nbsp;&nbsp;&nbsp;&nbsp;cTargU = mTargU&#42;self.PFMPC<br/>\n",
    "&nbsp;&nbsp;&nbsp;&nbsp;&nbsp;&nbsp;&nbsp;&nbsp;&nbsp;&nbsp;&nbsp;&nbsp;self.SSperturbance = self.mTarg&#42;0.1<br/>\n",
    "<br/>      \n",
    "&nbsp;&nbsp;&nbsp;&nbsp;&nbsp;&nbsp;&nbsp;&nbsp;&nbsp;&nbsp;&nbsp;&nbsp;<span style=\"color:teal\"># Find the MPC, MMPC, and MMMPC at the target</span><br/>\n",
    "&nbsp;&nbsp;&nbsp;&nbsp;&nbsp;&nbsp;&nbsp;&nbsp;&nbsp;&nbsp;&nbsp;&nbsp;mpcTargFixedPointFunc = lambda k : k&#42;uPP(self.cTarg) - \\ <br/>\n",
    "&nbsp;&nbsp;&nbsp;&nbsp;&nbsp;&nbsp;&nbsp;&nbsp;&nbsp;&nbsp;&nbsp;&nbsp;&nbsp;&nbsp;&nbsp;&nbsp;&nbsp;&nbsp;self.Beth&#42;((1.0-self.UnempPrb)&#42;(1.0-k)&#42;k&#42;self.Rnrm&#42;uPP(self.cTarg<br/>\n",
    "&nbsp;&nbsp;&nbsp;&nbsp;&nbsp;&nbsp;&nbsp;&nbsp;&nbsp;&nbsp;&nbsp;&nbsp;&nbsp;&nbsp;&nbsp;&nbsp;&nbsp;&nbsp;)+self.PFMPC&#42;self.UnempPrb&#42;(1.0-k)&#42;self.Rnrm&#42;uPP(cTargU))<br/>\n",
    "&nbsp;&nbsp;&nbsp;&nbsp;&nbsp;&nbsp;&nbsp;&nbsp;&nbsp;&nbsp;&nbsp;&nbsp;self.MPCtarg = newton(mpcTargFixedPointFunc,0)<br/>\n",
    "&nbsp;&nbsp;&nbsp;&nbsp;&nbsp;&nbsp;&nbsp;&nbsp;&nbsp;&nbsp;&nbsp;&nbsp;mmpcTargFixedPointFunc = lambda kk : kk&#42;uPP(self.cTarg) + self.MPCtarg&#42;&#42;2.0&#42;uPPP(self.cTarg <br/>\n",
    "&nbsp;&nbsp;&nbsp;&nbsp;&nbsp;&nbsp;&nbsp;&nbsp;&nbsp;&nbsp;&nbsp;&nbsp;&nbsp;&nbsp;&nbsp;&nbsp;&nbsp;&nbsp;) - self.Beth&#42;(-(1.0 - self.UnempPrb)&#42;self.MPCtarg&#42;kk&#42;self.Rnrm&#42;uPP(self.cTarg) + (<br/>\n",
    "&nbsp;&nbsp;&nbsp;&nbsp;&nbsp;&nbsp;&nbsp;&nbsp;&nbsp;&nbsp;&nbsp;&nbsp;&nbsp;&nbsp;&nbsp;&nbsp;&nbsp;&nbsp;1.0-self.UnempPrb)&#42;(1.0 - self.MPCtarg)&#42;&#42;2.0&#42;kk&#42;self.Rnrm&#42;&#42;2.0&#42;uPP(self.cTarg<br/>\n",
    "&nbsp;&nbsp;&nbsp;&nbsp;&nbsp;&nbsp;&nbsp;&nbsp;&nbsp;&nbsp;&nbsp;&nbsp;&nbsp;&nbsp;&nbsp;&nbsp;&nbsp;&nbsp;) - self.PFMPC&#42;self.UnempPrb&#42;kk&#42;self.Rnrm&#42;uPP(cTargU) + (1.0-self.UnempPrb)&#42;(1.0-self.MPCtarg<br/>\n",
    "&nbsp;&nbsp;&nbsp;&nbsp;&nbsp;&nbsp;&nbsp;&nbsp;&nbsp;&nbsp;&nbsp;&nbsp;&nbsp;&nbsp;&nbsp;&nbsp;&nbsp;&nbsp;)&#42;&#42;2.0&#42;self.MPCtarg&#42;&#42;2.0&#42;self.Rnrm&#42;&#42;2.0&#42;uPPP(self.cTarg) + self.PFMPC&#42;&#42;2.0&#42;self.UnempPrb&#42;( <br/>\n",
    "&nbsp;&nbsp;&nbsp;&nbsp;&nbsp;&nbsp;&nbsp;&nbsp;&nbsp;&nbsp;&nbsp;&nbsp;&nbsp;&nbsp;&nbsp;&nbsp;&nbsp;&nbsp;1.0-self.MPCtarg)&#42;&#42;2.0&#42;self.Rnrm&#42;&#42;2.0&#42;uPPP(cTargU))<br/> &nbsp;&nbsp;&nbsp;&nbsp;&nbsp;&nbsp;&nbsp;&nbsp;&nbsp;&nbsp;&nbsp;&nbsp;self.MMPCtarg = newton(mmpcTargFixedPointFunc,0)<br/>\n",
    "&nbsp;&nbsp;&nbsp;&nbsp;&nbsp;&nbsp;&nbsp;&nbsp;&nbsp;&nbsp;&nbsp;&nbsp;mmmpcTargFixedPointFunc = lambda kkk : kkk &#42; uPP(self.cTarg) + 3 &#42; self.MPCtarg &#42; \\ <br/>\n",
    "&nbsp;&nbsp;&nbsp;&nbsp;&nbsp;&nbsp;&nbsp;&nbsp;&nbsp;&nbsp;&nbsp;&nbsp;&nbsp;&nbsp;&nbsp;&nbsp;&nbsp;&nbsp;self.MMPCtarg &#42; uPPP(self.cTarg) + self.MPCtarg&#42;&#42;3 &#42; uPPPP(self.cTarg) - self.Beth &#42; (<br/>\n",
    "&nbsp;&nbsp;&nbsp;&nbsp;&nbsp;&nbsp;&nbsp;&nbsp;&nbsp;&nbsp;&nbsp;&nbsp;&nbsp;&nbsp;&nbsp;&nbsp;&nbsp;&nbsp;-(1 - self.UnempPrb) &#42; self.MPCtarg &#42; kkk &#42; self.Rnrm &#42; uPP(self.cTarg) - 3 &#42; (<br/>\n",
    "&nbsp;&nbsp;&nbsp;&nbsp;&nbsp;&nbsp;&nbsp;&nbsp;&nbsp;&nbsp;&nbsp;&nbsp;&nbsp;&nbsp;&nbsp;&nbsp;&nbsp;&nbsp;1 - self.UnempPrb) &#42; (1 - self.MPCtarg) &#42; self.MMPCtarg&#42;&#42;2 &#42; self.Rnrm&#42;&#42;2 &#42; uPP(self.cTarg<br/>\n",
    "&nbsp;&nbsp;&nbsp;&nbsp;&nbsp;&nbsp;&nbsp;&nbsp;&nbsp;&nbsp;&nbsp;&nbsp;&nbsp;&nbsp;&nbsp;&nbsp;&nbsp;&nbsp;) + (1 - self.UnempPrb) &#42; (1 - self.MPCtarg)&#42;&#42;3 &#42; kkk &#42; self.Rnrm&#42;&#42;3 &#42; uPP(self.cTarg<br/>\n",
    "&nbsp;&nbsp;&nbsp;&nbsp;&nbsp;&nbsp;&nbsp;&nbsp;&nbsp;&nbsp;&nbsp;&nbsp;&nbsp;&nbsp;&nbsp;&nbsp;&nbsp;&nbsp;) - self.PFMPC &#42; self.UnempPrb &#42; kkk &#42; self.Rnrm &#42; uPP(cTargU) - 3 &#42; (1 - self.UnempPrb<br/>\n",
    "&nbsp;&nbsp;&nbsp;&nbsp;&nbsp;&nbsp;&nbsp;&nbsp;&nbsp;&nbsp;&nbsp;&nbsp;&nbsp;&nbsp;&nbsp;&nbsp;&nbsp;&nbsp;) &#42; (1 - self.MPCtarg) &#42; self.MPCtarg&#42;&#42;2 &#42; self.MMPCtarg &#42; self.Rnrm&#42;&#42;2 &#42; uPPP(self.cTarg<br/>\n",
    "&nbsp;&nbsp;&nbsp;&nbsp;&nbsp;&nbsp;&nbsp;&nbsp;&nbsp;&nbsp;&nbsp;&nbsp;&nbsp;&nbsp;&nbsp;&nbsp;&nbsp;&nbsp;) + 3 &#42; (1 - self.UnempPrb) &#42; (1 - self.MPCtarg)&#42;&#42;3 &#42; self.MPCtarg &#42; self.MMPCtarg &#42; \\ <br/>\n",
    "&nbsp;&nbsp;&nbsp;&nbsp;&nbsp;&nbsp;&nbsp;&nbsp;&nbsp;&nbsp;&nbsp;&nbsp;&nbsp;&nbsp;&nbsp;&nbsp;&nbsp;&nbsp;self.Rnrm&#42;&#42;3 &#42; uPPP(self.cTarg) - 3 &#42; self.PFMPC&#42;&#42;2 &#42; self.UnempPrb &#42; (1 - self.MPCtarg<br/>\n",
    "&nbsp;&nbsp;&nbsp;&nbsp;&nbsp;&nbsp;&nbsp;&nbsp;&nbsp;&nbsp;&nbsp;&nbsp;&nbsp;&nbsp;&nbsp;&nbsp;&nbsp;&nbsp;) &#42; self.MMPCtarg &#42; self.Rnrm&#42;&#42;2 &#42; uPPP(cTargU) + (1 - self.UnempPrb) &#42; (1 - self.MPCtarg<br/>\n",
    "&nbsp;&nbsp;&nbsp;&nbsp;&nbsp;&nbsp;&nbsp;&nbsp;&nbsp;&nbsp;&nbsp;&nbsp;&nbsp;&nbsp;&nbsp;&nbsp;&nbsp;&nbsp;)&#42;&#42;3 &#42; self.MPCtarg&#42;&#42;3 &#42; self.Rnrm&#42;&#42;3 &#42; uPPPP(self.cTarg) + self.PFMPC&#42;&#42;3 &#42; self.UnempPrb &#42; (<br/>\n",
    "&nbsp;&nbsp;&nbsp;&nbsp;&nbsp;&nbsp;&nbsp;&nbsp;&nbsp;&nbsp;&nbsp;&nbsp;&nbsp;&nbsp;&nbsp;&nbsp;&nbsp;&nbsp;1 - self.MPCtarg)&#42;&#42;3 &#42; self.Rnrm&#42;&#42;3 &#42; uPPPP(cTargU))<br/>\n",
    "&nbsp;&nbsp;&nbsp;&nbsp;&nbsp;&nbsp;&nbsp;&nbsp;&nbsp;&nbsp;&nbsp;&nbsp;self.MMMPCtarg = newton(mmmpcTargFixedPointFunc,0)<br/>\n",
    "        \n",
    "&nbsp;&nbsp;&nbsp;&nbsp;&nbsp;&nbsp;&nbsp;&nbsp;&nbsp;&nbsp;&nbsp;&nbsp;<span style=\"color:teal\"># Find the MPC at m=0</span><br/>\n",
    "&nbsp;&nbsp;&nbsp;&nbsp;&nbsp;&nbsp;&nbsp;&nbsp;&nbsp;&nbsp;&nbsp;&nbsp;f_temp = lambda k : self.Beth&#42;self.Rnrm&#42;self.UnempPrb&#42;(self.PFMPC&#42;self.Rnrm&#42;((1.0-k)/k))&#42;&#42;(<br/>\n",
    "&nbsp;&nbsp;&nbsp;&nbsp;&nbsp;&nbsp;&nbsp;&nbsp;&nbsp;&nbsp;&nbsp;&nbsp;&nbsp;&nbsp;&nbsp;&nbsp;&nbsp;&nbsp;-self.CRRA-1.0)&#42;self.PFMPC<br/>\n",
    "&nbsp;&nbsp;&nbsp;&nbsp;&nbsp;&nbsp;&nbsp;&nbsp;&nbsp;&nbsp;&nbsp;&nbsp;mpcAtZeroFixedPointFunc = lambda k : k - f_temp(k)/(1 + f_temp(k))<br/>\n",
    "&nbsp;&nbsp;&nbsp;&nbsp;&nbsp;&nbsp;&nbsp;&nbsp;&nbsp;&nbsp;&nbsp;&nbsp;self.MPCmax = brentq(mpcAtZeroFixedPointFunc,self.PFMPC,0.99,xtol=0.00000001,rtol=0.00000001)<br/>\n",
    "        \n",
    "&nbsp;&nbsp;&nbsp;&nbsp;&nbsp;&nbsp;&nbsp;&nbsp;&nbsp;&nbsp;&nbsp;&nbsp;<span style=\"color:teal\"># Make the initial list of Euler points: target and perturbation to either side</span><br/>\n",
    "&nbsp;&nbsp;&nbsp;&nbsp;&nbsp;&nbsp;&nbsp;&nbsp;&nbsp;&nbsp;&nbsp;&nbsp;mNrm_list = [self.mTarg-self.SSperturbance, self.mTarg, self.mTarg+self.SSperturbance]<br/>\n",
    "&nbsp;&nbsp;&nbsp;&nbsp;&nbsp;&nbsp;&nbsp;&nbsp;&nbsp;&nbsp;&nbsp;&nbsp;c_perturb_lo = self.cTarg - self.SSperturbance&#42;self.MPCtarg + 0.5&#42;self.SSperturbance&#42;&#42;2.0&#42;self.MMPCtarg - \\<br/>\n",
    "&nbsp;&nbsp;&nbsp;&nbsp;&nbsp;&nbsp;&nbsp;&nbsp;&nbsp;&nbsp;&nbsp;&nbsp;&nbsp;&nbsp;&nbsp;&nbsp;&nbsp;&nbsp;(1.0/6.0)&#42;self.SSperturbance&#42;&#42;3.0&#42;self.MMMPCtarg<br/>\n",
    "&nbsp;&nbsp;&nbsp;&nbsp;&nbsp;&nbsp;&nbsp;&nbsp;&nbsp;&nbsp;&nbsp;&nbsp;c_perturb_hi = self.cTarg + self.SSperturbance&#42;self.MPCtarg + 0.5&#42;self.SSperturbance&#42;&#42;2.0&#42;self.MMPCtarg + \\<br/>\n",
    "&nbsp;&nbsp;&nbsp;&nbsp;&nbsp;&nbsp;&nbsp;&nbsp;&nbsp;&nbsp;&nbsp;&nbsp;&nbsp;&nbsp;&nbsp;&nbsp;&nbsp;&nbsp;(1.0/6.0)&#42;self.SSperturbance&#42;&#42;3.0&#42;self.MMMPCtarg<br/>\n",
    "&nbsp;&nbsp;&nbsp;&nbsp;&nbsp;&nbsp;&nbsp;&nbsp;&nbsp;&nbsp;&nbsp;&nbsp;cNrm_list = [c_perturb_lo, self.cTarg, c_perturb_hi]<br/>\n",
    "&nbsp;&nbsp;&nbsp;&nbsp;&nbsp;&nbsp;&nbsp;&nbsp;&nbsp;&nbsp;&nbsp;&nbsp;MPC_perturb_lo = self.MPCtarg - self.SSperturbance&#42;self.MMPCtarg + 0.5&#42;self.SSperturbance&#42;&#42;2.0&#42;self.MMMPCtarg<br/>\n",
    "&nbsp;&nbsp;&nbsp;&nbsp;&nbsp;&nbsp;&nbsp;&nbsp;&nbsp;&nbsp;&nbsp;&nbsp;MPC_perturb_hi = self.MPCtarg + self.SSperturbance&#42;self.MMPCtarg + 0.5&#42;self.SSperturbance&#42;&#42;2.0&#42;self.MMMPCtarg<br/>\n",
    "&nbsp;&nbsp;&nbsp;&nbsp;&nbsp;&nbsp;&nbsp;&nbsp;&nbsp;&nbsp;&nbsp;&nbsp;MPC_list = [MPC_perturb_lo, self.MPCtarg, MPC_perturb_hi]<br/>\n",
    "        \n",
    "&nbsp;&nbsp;&nbsp;&nbsp;&nbsp;&nbsp;&nbsp;&nbsp;&nbsp;&nbsp;&nbsp;&nbsp;<span style=\"color:teal\"># Set bounds for money (stable arm construction stops when these are exceeded)</span><br/>\n",
    "&nbsp;&nbsp;&nbsp;&nbsp;&nbsp;&nbsp;&nbsp;&nbsp;&nbsp;&nbsp;&nbsp;&nbsp;self.mLowerBnd = 1.0<br/>\n",
    "&nbsp;&nbsp;&nbsp;&nbsp;&nbsp;&nbsp;&nbsp;&nbsp;&nbsp;&nbsp;&nbsp;&nbsp;self.mUpperBnd = 2.0&#42;self.mTarg<br/>\n",
    "        \n",
    "&nbsp;&nbsp;&nbsp;&nbsp;&nbsp;&nbsp;&nbsp;&nbsp;&nbsp;&nbsp;&nbsp;&nbsp;<span style=\"color:teal\"># Make the terminal period solution</span><br/>\n",
    "&nbsp;&nbsp;&nbsp;&nbsp;&nbsp;&nbsp;&nbsp;&nbsp;&nbsp;&nbsp;&nbsp;&nbsp;solution_terminal = TractableConsumerSolution(mNrm_list=mNrm_list,cNrm_list=cNrm_list,MPC_list=MPC_list)<br/>\n",
    "&nbsp;&nbsp;&nbsp;&nbsp;&nbsp;&nbsp;&nbsp;&nbsp;&nbsp;&nbsp;&nbsp;&nbsp;self.solution_terminal = solution_terminal<br/>\n",
    "<br/>\n",
    "&nbsp;&nbsp;&nbsp;&nbsp;&nbsp;&nbsp;&nbsp;&nbsp;&nbsp;&nbsp;&nbsp;&nbsp;<span style=\"color:teal\"># Make two linear steady state functions</span><br/>\n",
    "&nbsp;&nbsp;&nbsp;&nbsp;&nbsp;&nbsp;&nbsp;&nbsp;&nbsp;&nbsp;&nbsp;&nbsp;self.cSSfunc = lambda m : m&#42;((self.Rnrm&#42;self.PFMPC&#42;Pi)/(1.0+self.Rnrm&#42;self.PFMPC&#42;Pi))<br/>\n",
    "&nbsp;&nbsp;&nbsp;&nbsp;&nbsp;&nbsp;&nbsp;&nbsp;&nbsp;&nbsp;&nbsp;&nbsp;self.mSSfunc = lambda m : (self.PermGroFacCmp/self.Rfree)+(1.0-self.PermGroFacCmp/self.Rfree)&#42;m\n",
    "</p></div>"
   ]
  },
  {
   "cell_type": "markdown",
   "metadata": {
    "collapsed": true
   },
   "source": [
    "Explain postSolve below"
   ]
  },
  {
   "cell_type": "markdown",
   "metadata": {
    "collapsed": true
   },
   "source": [
    "<div style=\"background-color:#F0F0F0\"><p>&nbsp;&nbsp;&nbsp;&nbsp;&nbsp;&nbsp;<span style=\"color:green\"><b>def</b></span> <span style=\"color:blue\">postSolve</span>(Self):<br/>\n",
    "&nbsp;&nbsp;&nbsp;&nbsp;&nbsp;&nbsp;&nbsp;&nbsp;&nbsp;&nbsp;&nbsp;&nbsp;<span style=\"color:DarkRed\">'''<br/>\n",
    "&nbsp;&nbsp;&nbsp;&nbsp;&nbsp;&nbsp;&nbsp;&nbsp;&nbsp;&nbsp;&nbsp;&nbsp;This method adds consumption at m=0 to the list of stable arm points,<br/>\n",
    "&nbsp;&nbsp;&nbsp;&nbsp;&nbsp;&nbsp;&nbsp;&nbsp;&nbsp;&nbsp;&nbsp;&nbsp;then constructs the consumption function as a cubic interpolation over<br/>\n",
    "&nbsp;&nbsp;&nbsp;&nbsp;&nbsp;&nbsp;&nbsp;&nbsp;&nbsp;&nbsp;&nbsp;&nbsp;those points.  Should be run after the backshooting routine is complete.<br/><br/>\n",
    "&nbsp;&nbsp;&nbsp;&nbsp;&nbsp;&nbsp;&nbsp;&nbsp;&nbsp;&nbsp;&nbsp;&nbsp;Parameters<br/>\n",
    "&nbsp;&nbsp;&nbsp;&nbsp;&nbsp;&nbsp;&nbsp;&nbsp;&nbsp;&nbsp;&nbsp;&nbsp;----------<br/>\n",
    "&nbsp;&nbsp;&nbsp;&nbsp;&nbsp;&nbsp;&nbsp;&nbsp;&nbsp;&nbsp;&nbsp;&nbsp;none<br/>\n",
    "&nbsp;&nbsp;&nbsp;&nbsp;&nbsp;&nbsp;&nbsp;&nbsp;&nbsp;&nbsp;&nbsp;&nbsp;Returns<br/>\n",
    "&nbsp;&nbsp;&nbsp;&nbsp;&nbsp;&nbsp;&nbsp;&nbsp;&nbsp;&nbsp;&nbsp;&nbsp;-------<br/>\n",
    "&nbsp;&nbsp;&nbsp;&nbsp;&nbsp;&nbsp;&nbsp;&nbsp;&nbsp;&nbsp;&nbsp;&nbsp;none<br/>\n",
    "&nbsp;&nbsp;&nbsp;&nbsp;&nbsp;&nbsp;&nbsp;&nbsp;&nbsp;&nbsp;&nbsp;&nbsp;'''<br/></span>\n",
    "&nbsp;&nbsp;&nbsp;&nbsp;&nbsp;&nbsp;&nbsp;&nbsp;&nbsp;&nbsp;&nbsp;&nbsp;<span style=\"color:teal\"># Add bottom point to the stable arm points</span><br/>\n",
    "&nbsp;&nbsp;&nbsp;&nbsp;&nbsp;&nbsp;&nbsp;&nbsp;&nbsp;&nbsp;&nbsp;&nbsp;self.solution[0].mNrm_list.insert(0,0.0)<br/>\n",
    "&nbsp;&nbsp;&nbsp;&nbsp;&nbsp;&nbsp;&nbsp;&nbsp;&nbsp;&nbsp;&nbsp;&nbsp;self.solution[0].cNrm_list.insert(0,0.0)<br/>\n",
    "&nbsp;&nbsp;&nbsp;&nbsp;&nbsp;&nbsp;&nbsp;&nbsp;&nbsp;&nbsp;&nbsp;&nbsp;self.solution[0].MPC_list.insert(0,self.MPCmax)<br/>\n",
    "<br/>\n",
    "&nbsp;&nbsp;&nbsp;&nbsp;&nbsp;&nbsp;&nbsp;&nbsp;&nbsp;&nbsp;&nbsp;&nbsp;<span style=\"color:teal\"># Construct an interpolation of the consumption function from the stable arm points</span><br/>\n",
    "&nbsp;&nbsp;&nbsp;&nbsp;&nbsp;&nbsp;&nbsp;&nbsp;&nbsp;&nbsp;&nbsp;&nbsp;self.solution[0].cFunc = CubicInterp(self.solution[0].mNrm_list,self.solution[0].cNrm_list,<br/>\n",
    "&nbsp;&nbsp;&nbsp;&nbsp;&nbsp;&nbsp;&nbsp;&nbsp;&nbsp;&nbsp;&nbsp;&nbsp;&nbsp;&nbsp;&nbsp;&nbsp;&nbsp;&nbsp;self.solution[0].MPC_list,self.PFMPC&#42;(self.h-1.0),self.PFMPC)<br/>\n",
    "&nbsp;&nbsp;&nbsp;&nbsp;&nbsp;&nbsp;&nbsp;&nbsp;&nbsp;&nbsp;&nbsp;&nbsp;self.solution[0].cFunc_U = lambda m : self.PFMPC&#42;m<br/>\n",
    "</p></div>"
   ]
  },
  {
   "cell_type": "markdown",
   "metadata": {
    "collapsed": true
   },
   "source": []
  },
  {
   "cell_type": "code",
   "execution_count": 32,
   "metadata": {
    "collapsed": true
   },
   "outputs": [],
   "source": [
    "\n",
    "                \n",
    "    def postSolve(self):\n",
    "        '''        This method adds consumption at m=0 to the list of stable arm points,\n",
    "        then constructs the consumption function as a cubic interpolation over\n",
    "        those points.  Should be run after the backshooting routine is complete.\n",
    "\n",
    "        \n",
    "        Parameters\n",
    "        ----------\n",
    "        none\n",
    "        \n",
    "        Returns\n",
    "        -------\n",
    "        none\n",
    "        '''\n",
    "        # Add bottom point to the stable arm points\n",
    "        self.solution[0].mNrm_list.insert(0,0.0)\n",
    "        self.solution[0].cNrm_list.insert(0,0.0)\n",
    "        self.solution[0].MPC_list.insert(0,self.MPCmax)\n",
    "        \n",
    "        # Construct an interpolation of the consumption function from the stable arm points\n",
    "        self.solution[0].cFunc = CubicInterp(self.solution[0].mNrm_list,self.solution[0].cNrm_list,\n",
    "                                             self.solution[0].MPC_list,self.PFMPC*(self.h-1.0),self.PFMPC)\n",
    "        self.solution[0].cFunc_U = lambda m : self.PFMPC*m\n",
    "        \n",
    "    def update():\n",
    "        '''\n",
    "        This method does absolutely nothing, but should remain here for compati-\n",
    "        bility with cstwMPC when doing the \"tractable\" version.\n",
    "        '''\n",
    "        return None\n",
    "        \n",
    "    def simBirth(self,which_agents):\n",
    "        '''\n",
    "        Makes new consumers for the given indices.  Initialized variables include aNrm, as\n",
    "        well as time variables t_age and t_cycle.  Normalized assets are drawn from a lognormal\n",
    "        distributions given by aLvlInitMean and aLvlInitStd.\n",
    "        \n",
    "        Parameters\n",
    "        ----------\n",
    "        which_agents : np.array(Bool)\n",
    "            Boolean array of size self.AgentCount indicating which agents should be \"born\".\n",
    "        \n",
    "        Returns\n",
    "        -------\n",
    "        None\n",
    "        '''\n",
    "        # Get and store states for newly born agents\n",
    "        N = np.sum(which_agents) # Number of new consumers to make      \n",
    "        self.aLvlNow[which_agents] = drawLognormal(N,mu=self.aLvlInitMean,sigma=self.aLvlInitStd,seed=self.RNG.randint(0,2**31-1))\n",
    "        self.eStateNow[which_agents] = 1.0 # Agents are born employed\n",
    "        self.t_age[which_agents]   = 0 # How many periods since each agent was born\n",
    "        self.t_cycle[which_agents] = 0 # Which period of the cycle each agent is currently in\n",
    "        return None\n",
    "        \n",
    "    def simDeath(self):\n",
    "        '''\n",
    "        Trivial function that returns boolean array of all False, as there is no death.\n",
    "        \n",
    "        Parameters\n",
    "        ----------\n",
    "        None\n",
    "        \n",
    "        Returns\n",
    "        -------\n",
    "        which_agents : np.array(bool)\n",
    "            Boolean array of size AgentCount indicating which agents die.\n",
    "        '''\n",
    "        # Nobody dies in this model\n",
    "        which_agents = np.zeros(self.AgentCount,dtype=bool)\n",
    "        return which_agents\n",
    "        \n",
    "    def getShocks(self):\n",
    "        '''\n",
    "        Determine which agents switch from employment to unemployment.  All unemployed agents remain\n",
    "        unemployed until death.\n",
    "        \n",
    "        Parameters\n",
    "        ----------\n",
    "        None\n",
    "        \n",
    "        Returns\n",
    "        -------\n",
    "        None\n",
    "        '''\n",
    "        employed = self.eStateNow == 1.0\n",
    "        N = int(np.sum(employed))\n",
    "        newly_unemployed = drawBernoulli(N,p=self.UnempPrb,seed=self.RNG.randint(0,2**31-1))\n",
    "        self.eStateNow[employed] = 1.0 - newly_unemployed\n",
    "        \n",
    "    def getStates(self):\n",
    "        '''\n",
    "        Calculate market resources for all agents this period.\n",
    "        \n",
    "        Parameters\n",
    "        ----------\n",
    "        None\n",
    "        \n",
    "        Returns\n",
    "        -------\n",
    "        None\n",
    "        '''\n",
    "        self.bLvlNow = self.Rfree*self.aLvlNow\n",
    "        self.mLvlNow = self.bLvlNow + self.eStateNow\n",
    "        \n",
    "    def getControls(self):\n",
    "        '''\n",
    "        Calculate consumption for each agent this period.\n",
    "        \n",
    "        Parameters\n",
    "        ----------\n",
    "        None\n",
    "        \n",
    "        Returns\n",
    "        -------\n",
    "        None\n",
    "        '''\n",
    "        employed = self.eStateNow == 1.0\n",
    "        unemployed = np.logical_not(employed)\n",
    "        cLvlNow = np.zeros(self.AgentCount)\n",
    "        cLvlNow[employed] = self.solution[0].cFunc(self.mLvlNow[employed])\n",
    "        cLvlNow[unemployed] = self.solution[0].cFunc_U(self.mLvlNow[unemployed])\n",
    "        self.cLvlNow = cLvlNow\n",
    "        \n",
    "    def getPostStates(self):\n",
    "        '''\n",
    "        Calculates end-of-period assets for each consumer of this type.\n",
    "        \n",
    "        Parameters\n",
    "        ----------\n",
    "        None\n",
    "        \n",
    "        Returns\n",
    "        -------\n",
    "        None\n",
    "        '''\n",
    "        self.aLvlNow = self.mLvlNow - self.cLvlNow\n",
    "        return None"
   ]
  },
  {
   "cell_type": "markdown",
   "metadata": {},
   "source": [
    "Above, we created a class of object, and defined several methods belonging to the object. These methods are listed below with further explanation as to each one's importance:\n",
    "<br/>\n",
    "`__init__`: this method is called every time a new class object is instantiated. It assigns values to certain basic parameters of the object (`cycles`,`time_flow`) and names several additional variables (`DiscFac`,`Rfree`,`CRRA`,`PermGroFacCmp`,...) without assigning a value. Several of these time-invariant variables correspond to variables in the consumption Euler equation. Specifically,\n",
    "<br/>`DiscFac`: $\\beta$ &nbsp;&nbsp;`Rfree`: $R$ &nbsp;&nbsp; `PermGroFacCmp`: $\\Gamma$"
   ]
  },
  {
   "cell_type": "markdown",
   "metadata": {},
   "source": [
    "Now that we have defined how the model is structured and will be solved, we can input parameter values and solve the model.  We begin by creating a dictionary describing the base primitives of the model.  We set values for these parameters."
   ]
  },
  {
   "cell_type": "code",
   "execution_count": 33,
   "metadata": {
    "collapsed": true
   },
   "outputs": [],
   "source": [
    "# Define the model primitives\n",
    "base_primitives = {'UnempPrb' : .00625,    # Probability of becoming unemployed\n",
    "                       'DiscFac' : 0.975,      # Intertemporal discount factor\n",
    "                       'Rfree' : 1.01,         # Risk-free interest factor on assets\n",
    "                       'PermGroFac' : 1.0025,  # Permanent income growth factor (uncompensated)\n",
    "                       'CRRA' : 1.0}           # Coefficient of relative risk aversion\n",
    "                       \n",
    "    "
   ]
  },
  {
   "cell_type": "markdown",
   "metadata": {},
   "source": [
    "We now instantiate an TractableConsumer agent using the base primitives: in other words, we **make an agent**"
   ]
  },
  {
   "cell_type": "code",
   "execution_count": 34,
   "metadata": {
    "collapsed": true
   },
   "outputs": [],
   "source": [
    "                 \n",
    "# Make and solve a tractable consumer type\n",
    "ExampleAgent_sim = TractableConsumerType(**base_primitives)\n",
    "    "
   ]
  },
  {
   "cell_type": "code",
   "execution_count": 35,
   "metadata": {},
   "outputs": [
    {
     "data": {
      "image/png": "[encoded data removed]",
      "text/plain": [
       "<matplotlib.figure.Figure at 0x7fd5afd19950>"
      ]
     },
     "metadata": {},
     "output_type": "display_data"
    },
    {
     "name": "stdout",
     "output_type": "stream",
     "text": [
      "Solving the same model \"the long way\" took 1.95571 seconds.\n"
     ]
    },
    {
     "data": {
      "image/png": "[encoded data removed]",
      "text/plain": [
       "<matplotlib.figure.Figure at 0x7fd5afa4abd0>"
      ]
     },
     "metadata": {},
     "output_type": "display_data"
    },
    {
     "name": "stdout",
     "output_type": "stream",
     "text": [
      "Difference between the (employed) consumption functions:\n"
     ]
    },
    {
     "data": {
      "image/png": "[encoded data removed]",
      "text/plain": [
       "<matplotlib.figure.Figure at 0x7fd5afb0b7d0>"
      ]
     },
     "metadata": {},
     "output_type": "display_data"
    }
   ],
   "source": [
    "    ExampleAgent_sim.solve()\n",
    "    \n",
    "    #print('Solving a tractable consumption-savings model took ' + str(t_end-t_start) + ' seconds.')\n",
    "    \n",
    "    # Plot the consumption function and whatnot\n",
    "    m_upper = 1.5*ExampleAgent_sim.mTarg\n",
    "    conFunc_PF = lambda m: ExampleAgent_sim.h*ExampleAgent_sim.PFMPC + ExampleAgent_sim.PFMPC*m\n",
    "    #plotFuncs([ExampleAgent_sim.solution[0].cFunc,ExampleAgent_sim.mSSfunc,ExampleAgent_sim.cSSfunc],0,m_upper)\n",
    "    lgd = {'x':'xvals','y':'yvals'}\n",
    "    plotFuncs([ExampleAgent_sim.solution[0].cFunc,ExampleAgent_sim.solution[0].cFunc_U],0,m_upper,legend_kwds= lgd)\n",
    "    \n",
    "    do_simulation = True # NEED TO DESCRIBE THIS\n",
    "    \n",
    "    # Define a dictionary to be used in case of simulation\n",
    "    simulation_values = {'aLvlInitMean' : 0.0,  # Mean of log initial assets for new agents \n",
    "                         'aLvlInitStd' : 1.0,   # Stdev of log initial assets for new agents\n",
    "                         'AgentCount' : 10000,  # Number of agents to simulate\n",
    "                         'T_sim' : 120,         # Number of periods to simulate\n",
    "                         'T_cycle' : 1}         # Number of periods in the cycle\n",
    "    \n",
    "    if do_simulation:\n",
    "        ExampleAgent_sim(**simulation_values) # Set attributes needed for simulation\n",
    "        ExampleAgent_sim.track_vars = ['mLvlNow']\n",
    "        ExampleAgent_sim.makeShockHistory()\n",
    "        ExampleAgent_sim.initializeSim()\n",
    "        ExampleAgent_sim.simulate()\n",
    "        \n",
    "    \n",
    "    # Now solve the same model using backward induction rather than the analytic method of TBS.\n",
    "    # The TBS model is equivalent to a Markov model with two states, one of them absorbing (permanent unemployment).\n",
    "    MrkvArray = np.array([[1.0-base_primitives['UnempPrb'],base_primitives['UnempPrb']],[0.0,1.0]]) # Define the two state, absorbing unemployment Markov array\n",
    "    init_consumer_objects = {\"CRRA\":base_primitives['CRRA'],\n",
    "                            \"Rfree\":np.array(2*[base_primitives['Rfree']]), # Interest factor (same in both states)\n",
    "                            \"PermGroFac\":[np.array(2*[base_primitives['PermGroFac']/(1.0-base_primitives['UnempPrb'])])], # Unemployment-compensated permanent growth factor\n",
    "                            \"BoroCnstArt\":None,   # Artificial borrowing constraint\n",
    "                            \"PermShkStd\":[0.0],   # Permanent shock standard deviation\n",
    "                            \"PermShkCount\":1,     # Number of shocks in discrete permanent shock distribution\n",
    "                            \"TranShkStd\":[0.0],   # Transitory shock standard deviation\n",
    "                            \"TranShkCount\":1,     # Number of shocks in discrete permanent shock distribution\n",
    "                            \"T_cycle\":1,          # Number of periods in cycle\n",
    "                            \"UnempPrb\":0.0,       # Unemployment probability (not used, as the unemployment here is *permanent*, not transitory)\n",
    "                            \"UnempPrbRet\":0.0,    # Unemployment probability when retired (irrelevant here)\n",
    "                            \"T_retire\":0,         # Age at retirement (turned off)\n",
    "                            \"IncUnemp\":0.0,       # Income when unemployed (irrelevant)\n",
    "                            \"IncUnempRet\":0.0,    # Income when unemployed and retired (irrelevant)\n",
    "                            \"aXtraMin\":0.001,     # Minimum value of assets above minimum in grid\n",
    "                            \"aXtraMax\":ExampleAgent_sim.mUpperBnd, # Maximum value of assets above minimum in grid\n",
    "                            \"aXtraCount\":48,      # Number of points in assets grid\n",
    "                            \"aXtraExtra\":[None],  # Additional points to include in assets grid\n",
    "                            \"aXtraNestFac\":3,     # Degree of exponential nesting when constructing assets grid\n",
    "                            \"LivPrb\":[np.array([1.0,1.0])], # Survival probability\n",
    "                            \"DiscFac\":base_primitives['DiscFac'], # Intertemporal discount factor\n",
    "                            'AgentCount':1,       # Number of agents in a simulation (irrelevant)\n",
    "                            'tax_rate':0.0,       # Tax rate on labor income (irrelevant)\n",
    "                            'vFuncBool':False,    # Whether to calculate the value function\n",
    "                            'CubicBool':True,     # Whether to use cubic splines (False --> linear splines)\n",
    "                            'MrkvArray':[MrkvArray] # State transition probabilities\n",
    "                            }\n",
    "    MarkovType = MarkovConsumerType(**init_consumer_objects)   # Make a basic consumer type\n",
    "    employed_income_dist = [np.ones(1),np.ones(1),np.ones(1)]    # Income distribution when employed\n",
    "    unemployed_income_dist = [np.ones(1),np.ones(1),np.zeros(1)] # Income distribution when permanently unemployed\n",
    "    MarkovType.IncomeDstn = [[employed_income_dist,unemployed_income_dist]]  # set the income distribution in each state\n",
    "    MarkovType.cycles = 0\n",
    "    \n",
    "    # Solve the \"Markov TBS\" model\n",
    "    t_start = clock()\n",
    "    MarkovType.solve()\n",
    "    t_end = clock()\n",
    "    MarkovType.unpackcFunc()\n",
    "    \n",
    "    print('Solving the same model \"the long way\" took ' + str(t_end-t_start) + ' seconds.')\n",
    "    #plotFuncs([ExampleAgent_sim.solution[0].cFunc,ExampleAgent_sim.solution[0].cFunc_U],0,m_upper)\n",
    "    plotFuncs(MarkovType.cFunc[0],0,m_upper)\n",
    "    diffFunc = lambda m : ExampleAgent_sim.solution[0].cFunc(m) - MarkovType.cFunc[0][0](m)\n",
    "    print('Difference between the (employed) consumption functions:')\n",
    "    plotFuncs(diffFunc,0,m_upper)"
   ]
  },
  {
   "cell_type": "markdown",
   "metadata": {},
   "source": [
    "We solve the model using HARK simulation. Specifically, we use a method of the superclass `AgentType` (the subclass, `TractableConsumerType` inherits all methods of the superclass, then can add/ modify methods to fit the subclass). The method is, unsurprisingly, named `simulate`.\n",
    "<br/>\n",
    "The `simulate` method iterates over the lifetime of the agent (set via the parameter `T_sim`) and, each period, uses the parameters initially given (prior to the `.simulate()` call) to compute the expected outcome of each period. Thus, we simulate the agent's life based on the inputs to determine the solution to the consumer's optimization problem (save vs. consume) at each period. We then use the values at each period to describe the function that characterizes the solution (optimal saving vs consumption). \n",
    "<br/>\n",
    "<br/>\n",
    "Below, we solve the consumption-saving problem via simulation."
   ]
  },
  {
   "cell_type": "code",
   "execution_count": 36,
   "metadata": {},
   "outputs": [
    {
     "data": {
      "image/png": "[encoded data removed]",
      "text/plain": [
       "<matplotlib.figure.Figure at 0x7fd5af95fc50>"
      ]
     },
     "metadata": {},
     "output_type": "display_data"
    }
   ],
   "source": [
    "\n",
    "ExampleAgent_sim.solve()\n",
    "do_simulation = True # NEED TO DESCRIBE THIS\n",
    "    \n",
    "    # Define a dictionary to be used in case of simulation\n",
    "simulation_values = {'aLvlInitMean' : 0.0,  # Mean of log initial assets for new agents \n",
    "                         'aLvlInitStd' : 1.0,   # Stdev of log initial assets for new agents\n",
    "                         'AgentCount' : 10000,  # Number of agents to simulate\n",
    "                         'T_sim' : 120,         # Number of periods to simulate\n",
    "                         'T_cycle' : 1}         # Number of periods in the cycle\n",
    "    \n",
    "if do_simulation:\n",
    "    ExampleAgent_sim(**simulation_values) # Set attributes needed for simulation\n",
    "    ExampleAgent_sim.track_vars = ['mLvlNow']\n",
    "    ExampleAgent_sim.makeShockHistory()\n",
    "    ExampleAgent_sim.initializeSim()\n",
    "    ExampleAgent_sim.simulate()\n",
    "    m_upper = 1.5*ExampleAgent_sim.mTarg\n",
    "        \n",
    "        \n",
    "conFunc_PF = lambda m: ExampleAgent_sim.h*ExampleAgent_sim.PFMPC + ExampleAgent_sim.PFMPC*m\n",
    "    #plotFuncs([ExampleAgent_sim.solution[0].cFunc,ExampleAgent_sim.mSSfunc,ExampleAgent_sim.cSSfunc],0,m_upper)\n",
    "modprims = {'UnempPrb' : .000625,    # Probability of becoming unemployed\n",
    "    'DiscFac' : 0.975,      # Intertemporal discount factor\n",
    "    'Rfree' : 1.01,         # Risk-free interest factor on assets\n",
    "    'PermGroFac' : 1.25,  # Permanent income growth factor (uncompensated)\n",
    "    'CRRA' : 1.0} \n",
    "ex2 = TractableConsumerType(**modprims)\n",
    "ex2.solve()\n",
    "plotFuncs([ExampleAgent_sim.solution[0].cFunc,ExampleAgent_sim.solution[0].cFunc_U, ex2.solution[0].cFunc],0,m_upper, \n",
    "          legend_kwds = {'x':'line','y':'linez'})\n"
   ]
  },
  {
   "cell_type": "markdown",
   "metadata": {},
   "source": [
    "We now compare our solution via simulation to the solution by backward induction, using a Markov model with two states"
   ]
  },
  {
   "cell_type": "code",
   "execution_count": 37,
   "metadata": {},
   "outputs": [
    {
     "name": "stdout",
     "output_type": "stream",
     "text": [
      "Solving the same model \"the long way\" took 2.029047 seconds.\n"
     ]
    },
    {
     "data": {
      "image/png": "[encoded data removed]",
      "text/plain": [
       "<matplotlib.figure.Figure at 0x7fd5af95f1d0>"
      ]
     },
     "metadata": {},
     "output_type": "display_data"
    },
    {
     "name": "stdout",
     "output_type": "stream",
     "text": [
      "Difference between the (employed) consumption functions:\n"
     ]
    },
    {
     "data": {
      "image/png": "[encoded data removed]",
      "text/plain": [
       "<matplotlib.figure.Figure at 0x7fd5afbb0590>"
      ]
     },
     "metadata": {},
     "output_type": "display_data"
    }
   ],
   "source": [
    "    # Now solve the same model using backward induction rather than the analytic method of TBS.\n",
    "    # The TBS model is equivalent to a Markov model with two states, one of them absorbing (permanent unemployment).\n",
    "    MrkvArray = np.array([[1.0-base_primitives['UnempPrb'],base_primitives['UnempPrb']],[0.0,1.0]]) # Define the two state, absorbing unemployment Markov array\n",
    "    init_consumer_objects = {\"CRRA\":base_primitives['CRRA'],\n",
    "                            \"Rfree\":np.array(2*[base_primitives['Rfree']]), # Interest factor (same in both states)\n",
    "                            \"PermGroFac\":[np.array(2*[base_primitives['PermGroFac']/(1.0-base_primitives['UnempPrb'])])], # Unemployment-compensated permanent growth factor\n",
    "                            \"BoroCnstArt\":None,   # Artificial borrowing constraint\n",
    "                            \"PermShkStd\":[0.0],   # Permanent shock standard deviation\n",
    "                            \"PermShkCount\":1,     # Number of shocks in discrete permanent shock distribution\n",
    "                            \"TranShkStd\":[0.0],   # Transitory shock standard deviation\n",
    "                            \"TranShkCount\":1,     # Number of shocks in discrete permanent shock distribution\n",
    "                            \"T_cycle\":1,          # Number of periods in cycle\n",
    "                            \"UnempPrb\":0.0,       # Unemployment probability (not used, as the unemployment here is *permanent*, not transitory)\n",
    "                            \"UnempPrbRet\":0.0,    # Unemployment probability when retired (irrelevant here)\n",
    "                            \"T_retire\":0,         # Age at retirement (turned off)\n",
    "                            \"IncUnemp\":0.0,       # Income when unemployed (irrelevant)\n",
    "                            \"IncUnempRet\":0.0,    # Income when unemployed and retired (irrelevant)\n",
    "                            \"aXtraMin\":0.001,     # Minimum value of assets above minimum in grid\n",
    "                            \"aXtraMax\":ExampleAgent_sim.mUpperBnd, # Maximum value of assets above minimum in grid\n",
    "                            \"aXtraCount\":48,      # Number of points in assets grid\n",
    "                            \"aXtraExtra\":[None],  # Additional points to include in assets grid\n",
    "                            \"aXtraNestFac\":3,     # Degree of exponential nesting when constructing assets grid\n",
    "                            \"LivPrb\":[np.array([1.0,1.0])], # Survival probability\n",
    "                            \"DiscFac\":base_primitives['DiscFac'], # Intertemporal discount factor\n",
    "                            'AgentCount':1,       # Number of agents in a simulation (irrelevant)\n",
    "                            'tax_rate':0.0,       # Tax rate on labor income (irrelevant)\n",
    "                            'vFuncBool':False,    # Whether to calculate the value function\n",
    "                            'CubicBool':True,     # Whether to use cubic splines (False --> linear splines)\n",
    "                            'MrkvArray':[MrkvArray] # State transition probabilities\n",
    "                            }\n",
    "    MarkovType = MarkovConsumerType(**init_consumer_objects)   # Make a basic consumer type\n",
    "    employed_income_dist = [np.ones(1),np.ones(1),np.ones(1)]    # Income distribution when employed\n",
    "    unemployed_income_dist = [np.ones(1),np.ones(1),np.zeros(1)] # Income distribution when permanently unemployed\n",
    "    MarkovType.IncomeDstn = [[employed_income_dist,unemployed_income_dist]]  # set the income distribution in each state\n",
    "    MarkovType.cycles = 0\n",
    "    \n",
    "    # Solve the \"Markov TBS\" model\n",
    "    t_start = clock()\n",
    "    MarkovType.solve()\n",
    "    t_end = clock()\n",
    "    MarkovType.unpackcFunc()\n",
    "    \n",
    "    print('Solving the same model \"the long way\" took ' + str(t_end-t_start) + ' seconds.')\n",
    "    #plotFuncs([ExampleAgent_sim.solution[0].cFunc,ExampleAgent_sim.solution[0].cFunc_U],0,m_upper)\n",
    "    plotFuncs(MarkovType.cFunc[0],0,m_upper)\n",
    "    diffFunc = lambda m : ExampleAgent_sim.solution[0].cFunc(m) - MarkovType.cFunc[0][0](m)\n",
    "    print('Difference between the (employed) consumption functions:')\n",
    "    plotFuncs(diffFunc,0,m_upper)"
   ]
  },
  {
   "cell_type": "code",
   "execution_count": 38,
   "metadata": {},
   "outputs": [
    {
     "ename": "NameError",
     "evalue": "name 'a' is not defined",
     "output_type": "error",
     "traceback": [
      "\u001b[0;31m---------------------------------------------------------------------------\u001b[0m",
      "\u001b[0;31mNameError\u001b[0m                                 Traceback (most recent call last)",
      "\u001b[0;32m<ipython-input-38-c5de648f7892>\u001b[0m in \u001b[0;36m<module>\u001b[0;34m()\u001b[0m\n\u001b[0;32m----> 1\u001b[0;31m \u001b[0mplotFuncs\u001b[0m\u001b[0;34m(\u001b[0m\u001b[0ma\u001b[0m\u001b[0;34m.\u001b[0m\u001b[0msolution\u001b[0m\u001b[0;34m[\u001b[0m\u001b[0;36m0\u001b[0m\u001b[0;34m]\u001b[0m\u001b[0;34m.\u001b[0m\u001b[0mcFunc\u001b[0m\u001b[0;34m,\u001b[0m\u001b[0;36m0\u001b[0m\u001b[0;34m,\u001b[0m\u001b[0;36m10\u001b[0m\u001b[0;34m)\u001b[0m\u001b[0;34m\u001b[0m\u001b[0m\n\u001b[0m",
      "\u001b[0;31mNameError\u001b[0m: name 'a' is not defined"
     ]
    }
   ],
   "source": [
    "plotFuncs(a.solution[0].cFunc,0,10)"
   ]
  },
  {
   "cell_type": "code",
   "execution_count": null,
   "metadata": {
    "collapsed": true
   },
   "outputs": [],
   "source": [
    "plotFuncs(a.mSSfunc,0,10)"
   ]
  },
  {
   "cell_type": "code",
   "execution_count": null,
   "metadata": {
    "collapsed": true
   },
   "outputs": [],
   "source": [
    "vars(a)"
   ]
  },
  {
   "cell_type": "code",
   "execution_count": null,
   "metadata": {
    "collapsed": true
   },
   "outputs": [],
   "source": [
    "import matplotlib.pyplot as plt\n",
    "x = np.linspace(0,10,1000,True)\n",
    "y = a.solution[0].cFunc(x)\n",
    "plt.plot(x, y)\n",
    "plt.plot(x, a.mSSfunc(x))\n",
    "plt.axis('tight')\n",
    "plt.show()"
   ]
  },
  {
   "cell_type": "code",
   "execution_count": null,
   "metadata": {
    "collapsed": true
   },
   "outputs": [],
   "source": [
    "class test():\n",
    "    def __init__(self,a=3,b=4):\n",
    "        self.a = a\n",
    "        self.c = b\n",
    "    def run(self):\n",
    "        self.a = self.a + self.c"
   ]
  },
  {
   "cell_type": "code",
   "execution_count": null,
   "metadata": {
    "collapsed": true
   },
   "outputs": [],
   "source": [
    "a = test()"
   ]
  },
  {
   "cell_type": "code",
   "execution_count": null,
   "metadata": {
    "collapsed": true
   },
   "outputs": [],
   "source": [
    "b=test(1,2)"
   ]
  },
  {
   "cell_type": "code",
   "execution_count": null,
   "metadata": {
    "collapsed": true
   },
   "outputs": [],
   "source": [
    "a.run()\n",
    "b.run()"
   ]
  },
  {
   "cell_type": "code",
   "execution_count": null,
   "metadata": {
    "collapsed": true
   },
   "outputs": [],
   "source": [
    "a.a"
   ]
  },
  {
   "cell_type": "code",
   "execution_count": null,
   "metadata": {
    "collapsed": true
   },
   "outputs": [],
   "source": [
    "b.a"
   ]
  },
  {
   "cell_type": "code",
   "execution_count": null,
   "metadata": {
    "collapsed": true
   },
   "outputs": [],
   "source": []
  }
 ],
 "metadata": {
  "kernelspec": {
   "display_name": "Python 2",
   "language": "python",
   "name": "python2"
  },
  "language_info": {
   "codemirror_mode": {
    "name": "ipython",
    "version": 2
   },
   "file_extension": ".py",
   "mimetype": "text/x-python",
   "name": "python",
   "nbconvert_exporter": "python",
   "pygments_lexer": "ipython2",
   "version": "2.7.13"
  }
 },
 "nbformat": 4,
 "nbformat_minor": 2
}
